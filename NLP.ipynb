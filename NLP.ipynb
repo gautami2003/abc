{
  "cells": [
    {
      "cell_type": "markdown",
      "id": "f7253dbf",
      "metadata": {
        "id": "f7253dbf"
      },
      "source": [
        "# 1. Text Preprocessing"
      ]
    },
    {
      "cell_type": "code",
      "execution_count": 2,
      "id": "a64cf651",
      "metadata": {
        "colab": {
          "base_uri": "https://localhost:8080/"
        },
        "id": "a64cf651",
        "outputId": "6f0a94e3-99bb-41cf-b1f9-9ec9486bf809"
      },
      "outputs": [
        {
          "output_type": "stream",
          "name": "stdout",
          "text": [
            "Original -   This setence iS FOR Tex*t preproce$$ing\n",
            "Preprocessed -   this setence is for text preproceing\n",
            "Final after removing stop words -  setence text preproceing\n"
          ]
        },
        {
          "output_type": "stream",
          "name": "stderr",
          "text": [
            "[nltk_data] Downloading package stopwords to /root/nltk_data...\n",
            "[nltk_data]   Unzipping corpora/stopwords.zip.\n"
          ]
        }
      ],
      "source": [
        "import re\n",
        "import nltk\n",
        "from nltk.corpus import stopwords\n",
        "nltk.download('stopwords')\n",
        "txt = ' This setence iS FOR Tex*t preproce$$ing'\n",
        "print ('Original - ',txt)\n",
        "txt = txt.lower()\n",
        "txt = re.sub(r'[^a-zA-Z\\s]','',txt)\n",
        "print('Preprocessed - ',txt)\n",
        "sw=set(stopwords.words('english'))\n",
        "tkns = txt.split()\n",
        "txt = ' '.join(word for word in tkns if word not in sw)\n",
        "print('Final after removing stop words - ',txt)"
      ]
    },
    {
      "cell_type": "code",
      "source": [
        "# Using text file\n",
        "import re\n",
        "import nltk\n",
        "from nltk.corpus import stopwords\n",
        "\n",
        "# Download stopwords if not already downloaded\n",
        "nltk.download('stopwords')\n",
        "\n",
        "# Read the text file content\n",
        "def preprocess_text_file(file_path):\n",
        "    # Open and read the file\n",
        "    with open(file_path, 'r', encoding='utf-8') as file:\n",
        "        txt = file.read()\n",
        "\n",
        "    print('Original - ', txt)\n",
        "\n",
        "    # Convert to lowercase\n",
        "    txt = txt.lower()\n",
        "\n",
        "    # Remove punctuation and special characters using regex\n",
        "    txt = re.sub(r'[^a-zA-Z\\s]', '', txt)\n",
        "\n",
        "    print('Preprocessed - ', txt)\n",
        "\n",
        "    # Remove stopwords\n",
        "    sw = set(stopwords.words('english'))\n",
        "    tkns = txt.split()\n",
        "    txt = ' '.join(word for word in tkns if word not in sw)\n",
        "\n",
        "    print('Final after removing stop words - ', txt)\n",
        "    return txt\n",
        "\n",
        "# Pass the file path\n",
        "#preprocessed_text = preprocess_text_file('/path/to/your/textfile.txt')"
      ],
      "metadata": {
        "colab": {
          "base_uri": "https://localhost:8080/"
        },
        "id": "fBD6jptyb_Vh",
        "outputId": "87d485c9-0ea8-4999-a8bb-a9a5030920da"
      },
      "id": "fBD6jptyb_Vh",
      "execution_count": 4,
      "outputs": [
        {
          "output_type": "stream",
          "name": "stderr",
          "text": [
            "[nltk_data] Downloading package stopwords to /root/nltk_data...\n",
            "[nltk_data]   Package stopwords is already up-to-date!\n"
          ]
        }
      ]
    },
    {
      "cell_type": "markdown",
      "id": "5e5871d2",
      "metadata": {
        "id": "5e5871d2"
      },
      "source": [
        "# 2. Tokenization and Stemming"
      ]
    },
    {
      "cell_type": "code",
      "execution_count": 6,
      "id": "bc477254",
      "metadata": {
        "colab": {
          "base_uri": "https://localhost:8080/"
        },
        "id": "bc477254",
        "outputId": "d0ce844d-3fc3-4008-8a6a-ffeb6249ed56"
      },
      "outputs": [
        {
          "output_type": "stream",
          "name": "stderr",
          "text": [
            "[nltk_data] Downloading package punkt to /root/nltk_data...\n",
            "[nltk_data]   Unzipping tokenizers/punkt.zip.\n"
          ]
        },
        {
          "output_type": "stream",
          "name": "stdout",
          "text": [
            "['Hello', 'there', ',', 'I', 'am', 'currently', 'typing']\n",
            "hello there , i am current type\n"
          ]
        }
      ],
      "source": [
        "from nltk.tokenize import word_tokenize\n",
        "from nltk.stem import PorterStemmer\n",
        "txt = 'Hello there , I am currently typing'\n",
        "nltk.download('punkt')\n",
        "tok = word_tokenize(txt)\n",
        "print(tok)\n",
        "stemmer=PorterStemmer()\n",
        "stm = [stemmer.stem(tk) for tk in tok]\n",
        "fin_sen = ' '.join(stm)\n",
        "print(fin_sen)"
      ]
    },
    {
      "cell_type": "code",
      "source": [
        "import re\n",
        "import nltk\n",
        "from nltk.corpus import stopwords\n",
        "from nltk.tokenize import word_tokenize\n",
        "from nltk.stem import PorterStemmer\n",
        "\n",
        "# Download necessary NLTK resources\n",
        "nltk.download('punkt')\n",
        "nltk.download('stopwords')\n",
        "\n",
        "# Function to preprocess text from a file\n",
        "def preprocess_text_file(file_path):\n",
        "    # Open and read the file\n",
        "    with open(file_path, 'r', encoding='utf-8') as file:\n",
        "        txt = file.read()\n",
        "\n",
        "    print('Original - ', txt)\n",
        "\n",
        "    # Convert to lowercase\n",
        "    txt = txt.lower()\n",
        "\n",
        "    # Remove punctuation and special characters using regex\n",
        "    txt = re.sub(r'[^a-zA-Z\\s]', '', txt)\n",
        "\n",
        "    print('Preprocessed - ', txt)\n",
        "\n",
        "    # Remove stopwords\n",
        "    sw = set(stopwords.words('english'))\n",
        "    tkns = txt.split()\n",
        "    txt_no_stopwords = ' '.join(word for word in tkns if word not in sw)\n",
        "\n",
        "    print('After removing stop words - ', txt_no_stopwords)\n",
        "\n",
        "    # Tokenization\n",
        "    tokens = word_tokenize(txt_no_stopwords)\n",
        "    print('Tokens - ', tokens)\n",
        "\n",
        "    # Stemming\n",
        "    stemmer = PorterStemmer()\n",
        "    stemmed_tokens = [stemmer.stem(token) for token in tokens]\n",
        "\n",
        "    # Join stemmed tokens back into a sentence\n",
        "    final_sentence = ' '.join(stemmed_tokens)\n",
        "\n",
        "    print('Final after stemming - ', final_sentence)\n",
        "\n",
        "    return final_sentence\n",
        "\n",
        "# Provide the path to your text file\n",
        "#preprocessed_text = preprocess_text_file('/path/to/your/textfile.txt')\n"
      ],
      "metadata": {
        "colab": {
          "base_uri": "https://localhost:8080/"
        },
        "id": "NqGb6qTYcSGy",
        "outputId": "8d1757ac-1893-40fa-8040-ba718c46a5e2"
      },
      "id": "NqGb6qTYcSGy",
      "execution_count": 7,
      "outputs": [
        {
          "output_type": "stream",
          "name": "stderr",
          "text": [
            "[nltk_data] Downloading package punkt to /root/nltk_data...\n",
            "[nltk_data]   Package punkt is already up-to-date!\n",
            "[nltk_data] Downloading package stopwords to /root/nltk_data...\n",
            "[nltk_data]   Package stopwords is already up-to-date!\n"
          ]
        }
      ]
    },
    {
      "cell_type": "markdown",
      "id": "acca9080",
      "metadata": {
        "id": "acca9080"
      },
      "source": [
        "# 3.Lemmatization"
      ]
    },
    {
      "cell_type": "code",
      "execution_count": 9,
      "id": "f0430b26",
      "metadata": {
        "colab": {
          "base_uri": "https://localhost:8080/"
        },
        "id": "f0430b26",
        "outputId": "123e5cf2-beaa-4faf-9008-71a295278d53"
      },
      "outputs": [
        {
          "output_type": "stream",
          "name": "stderr",
          "text": [
            "[nltk_data] Downloading package wordnet to /root/nltk_data...\n"
          ]
        },
        {
          "output_type": "execute_result",
          "data": {
            "text/plain": [
              "['Hello', 'there', ',', 'I', 'am', 'currently', 'typing']"
            ]
          },
          "metadata": {},
          "execution_count": 9
        }
      ],
      "source": [
        "nltk.download('wordnet')\n",
        "from nltk.stem import WordNetLemmatizer\n",
        "from nltk.tokenize import word_tokenize\n",
        "lemm = WordNetLemmatizer()\n",
        "txt = 'Hello there , I am currently typing'\n",
        "tok = word_tokenize(txt)\n",
        "lm = [lemm.lemmatize(tk) for tk in tok]\n",
        "lm\n"
      ]
    },
    {
      "cell_type": "code",
      "source": [
        "import nltk\n",
        "from nltk.tokenize import word_tokenize\n",
        "from nltk.stem import WordNetLemmatizer\n",
        "\n",
        "# Download necessary NLTK resources\n",
        "nltk.download('punkt')\n",
        "nltk.download('wordnet')\n",
        "\n",
        "# Function to preprocess and lemmatize text from a file\n",
        "def lemmatize_text_file(file_path):\n",
        "    # Open and read the file\n",
        "    with open(file_path, 'r', encoding='utf-8') as file:\n",
        "        txt = file.read()\n",
        "\n",
        "    print('Original Text - ', txt)\n",
        "\n",
        "    # Tokenization\n",
        "    tokens = word_tokenize(txt)\n",
        "    print('Tokens - ', tokens)\n",
        "\n",
        "    # Lemmatization\n",
        "    lemmatizer = WordNetLemmatizer()\n",
        "    lemmatized_tokens = [lemmatizer.lemmatize(token) for token in tokens]\n",
        "\n",
        "    # Join lemmatized tokens back into a sentence\n",
        "    final_text = ' '.join(lemmatized_tokens)\n",
        "\n",
        "    print('Lemmatized Text - ', final_text)\n",
        "\n",
        "    return final_text\n",
        "\n",
        "# Provide the path to your text file\n",
        "#lemmatized_text = lemmatize_text_file('/path/to/your/textfile.txt')\n"
      ],
      "metadata": {
        "colab": {
          "base_uri": "https://localhost:8080/"
        },
        "id": "CyRVn9HMdHej",
        "outputId": "5fce7b59-43ce-46a5-a5dd-e508310289cf"
      },
      "id": "CyRVn9HMdHej",
      "execution_count": 10,
      "outputs": [
        {
          "output_type": "stream",
          "name": "stderr",
          "text": [
            "[nltk_data] Downloading package punkt to /root/nltk_data...\n",
            "[nltk_data]   Package punkt is already up-to-date!\n",
            "[nltk_data] Downloading package wordnet to /root/nltk_data...\n",
            "[nltk_data]   Package wordnet is already up-to-date!\n"
          ]
        }
      ]
    },
    {
      "cell_type": "markdown",
      "id": "2a1493ce",
      "metadata": {
        "id": "2a1493ce"
      },
      "source": [
        "# 4.Part of Speech Tagging\n"
      ]
    },
    {
      "cell_type": "code",
      "execution_count": 12,
      "id": "629ceef5",
      "metadata": {
        "colab": {
          "base_uri": "https://localhost:8080/"
        },
        "id": "629ceef5",
        "outputId": "10dd21dd-27e0-479f-9fc9-79475b09a588"
      },
      "outputs": [
        {
          "output_type": "stream",
          "name": "stderr",
          "text": [
            "[nltk_data] Downloading package averaged_perceptron_tagger to\n",
            "[nltk_data]     /root/nltk_data...\n",
            "[nltk_data]   Unzipping taggers/averaged_perceptron_tagger.zip.\n"
          ]
        },
        {
          "output_type": "execute_result",
          "data": {
            "text/plain": [
              "[('This', 'DT'),\n",
              " ('text', 'NN'),\n",
              " ('is', 'VBZ'),\n",
              " ('for', 'IN'),\n",
              " ('pos', 'NN'),\n",
              " ('tagging', 'NN')]"
            ]
          },
          "metadata": {},
          "execution_count": 12
        }
      ],
      "source": [
        "nltk.download('averaged_perceptron_tagger')\n",
        "from nltk.tokenize import word_tokenize\n",
        "txt = 'This text is for pos tagging'\n",
        "tkns = word_tokenize(txt)\n",
        "tags = nltk.pos_tag(tkns)\n",
        "tags"
      ]
    },
    {
      "cell_type": "code",
      "source": [
        "import nltk\n",
        "from nltk.tokenize import word_tokenize\n",
        "\n",
        "nltk.download('averaged_perceptron_tagger')\n",
        "\n",
        "# Replace 'path/to/your/file.txt' with the actual file path\n",
        "#file_path = 'path/to/your/file.txt'\n",
        "\n",
        "# Read the text file\n",
        "with open(file_path, 'r') as file:\n",
        "    txt = file.read()\n",
        "\n",
        "tkns = word_tokenize(txt)\n",
        "tags = nltk.pos_tag(tkns)\n",
        "print(tags)"
      ],
      "metadata": {
        "colab": {
          "base_uri": "https://localhost:8080/",
          "height": 295
        },
        "id": "OJPlMz1KdgC1",
        "outputId": "008c95c1-314d-4cf5-99f1-25563335d888"
      },
      "id": "OJPlMz1KdgC1",
      "execution_count": 13,
      "outputs": [
        {
          "output_type": "stream",
          "name": "stderr",
          "text": [
            "[nltk_data] Downloading package averaged_perceptron_tagger to\n",
            "[nltk_data]     /root/nltk_data...\n",
            "[nltk_data]   Package averaged_perceptron_tagger is already up-to-\n",
            "[nltk_data]       date!\n"
          ]
        },
        {
          "output_type": "error",
          "ename": "NameError",
          "evalue": "name 'file_path' is not defined",
          "traceback": [
            "\u001b[0;31m---------------------------------------------------------------------------\u001b[0m",
            "\u001b[0;31mNameError\u001b[0m                                 Traceback (most recent call last)",
            "\u001b[0;32m<ipython-input-13-49fb75c4ac55>\u001b[0m in \u001b[0;36m<cell line: 10>\u001b[0;34m()\u001b[0m\n\u001b[1;32m      8\u001b[0m \u001b[0;34m\u001b[0m\u001b[0m\n\u001b[1;32m      9\u001b[0m \u001b[0;31m# Read the text file\u001b[0m\u001b[0;34m\u001b[0m\u001b[0;34m\u001b[0m\u001b[0m\n\u001b[0;32m---> 10\u001b[0;31m \u001b[0;32mwith\u001b[0m \u001b[0mopen\u001b[0m\u001b[0;34m(\u001b[0m\u001b[0mfile_path\u001b[0m\u001b[0;34m,\u001b[0m \u001b[0;34m'r'\u001b[0m\u001b[0;34m)\u001b[0m \u001b[0;32mas\u001b[0m \u001b[0mfile\u001b[0m\u001b[0;34m:\u001b[0m\u001b[0;34m\u001b[0m\u001b[0;34m\u001b[0m\u001b[0m\n\u001b[0m\u001b[1;32m     11\u001b[0m     \u001b[0mtxt\u001b[0m \u001b[0;34m=\u001b[0m \u001b[0mfile\u001b[0m\u001b[0;34m.\u001b[0m\u001b[0mread\u001b[0m\u001b[0;34m(\u001b[0m\u001b[0;34m)\u001b[0m\u001b[0;34m\u001b[0m\u001b[0;34m\u001b[0m\u001b[0m\n\u001b[1;32m     12\u001b[0m \u001b[0;34m\u001b[0m\u001b[0m\n",
            "\u001b[0;31mNameError\u001b[0m: name 'file_path' is not defined"
          ]
        }
      ]
    },
    {
      "cell_type": "markdown",
      "id": "367240e4",
      "metadata": {
        "id": "367240e4"
      },
      "source": [
        "# 5.Word Cloud"
      ]
    },
    {
      "cell_type": "code",
      "execution_count": 14,
      "id": "c7b5e944",
      "metadata": {
        "colab": {
          "base_uri": "https://localhost:8080/",
          "height": 331
        },
        "id": "c7b5e944",
        "outputId": "c68f0091-7fbf-4225-fc45-a3473c659d96"
      },
      "outputs": [
        {
          "output_type": "execute_result",
          "data": {
            "text/plain": [
              "<matplotlib.image.AxesImage at 0x78df1d35b250>"
            ]
          },
          "metadata": {},
          "execution_count": 14
        },
        {
          "output_type": "display_data",
          "data": {
            "text/plain": [
              "<Figure size 640x480 with 1 Axes>"
            ],
            "image/png": "[encoded data removed]"
          },
          "metadata": {}
        }
      ],
      "source": [
        "from wordcloud import WordCloud\n",
        "import matplotlib.pyplot as plt\n",
        "txt = \"Music has the power to evoke emotions, unite people, and express feelings that words alone often cannot adequately convey.\"\n",
        "wc = WordCloud().generate(txt)\n",
        "plt.imshow(wc)"
      ]
    },
    {
      "cell_type": "code",
      "source": [
        "from wordcloud import WordCloud\n",
        "import matplotlib.pyplot as plt\n",
        "\n",
        "# Replace 'path/to/your/file.txt' with the actual file path\n",
        "file_path = 'path/to/your/file.txt'\n",
        "\n",
        "# Read the text file\n",
        "with open(file_path, 'r') as file:\n",
        "    txt = file.read()\n",
        "\n",
        "wc = WordCloud().generate(txt)\n",
        "plt.imshow(wc, interpolation='bilinear')\n",
        "plt.axis('off')  # Hide the axes\n",
        "plt.show()"
      ],
      "metadata": {
        "id": "fCkeIr3Yd0F-"
      },
      "id": "fCkeIr3Yd0F-",
      "execution_count": null,
      "outputs": []
    },
    {
      "cell_type": "markdown",
      "id": "c62c046c",
      "metadata": {
        "id": "c62c046c"
      },
      "source": [
        "# 6.Emojification and Demojification"
      ]
    },
    {
      "cell_type": "code",
      "source": [
        "pip install emoji"
      ],
      "metadata": {
        "colab": {
          "base_uri": "https://localhost:8080/"
        },
        "id": "roGpU7Q-d-5_",
        "outputId": "2d501ed8-956f-4d54-8476-0824100b3573"
      },
      "id": "roGpU7Q-d-5_",
      "execution_count": 16,
      "outputs": [
        {
          "output_type": "stream",
          "name": "stdout",
          "text": [
            "Collecting emoji\n",
            "  Downloading emoji-2.14.0-py3-none-any.whl.metadata (5.7 kB)\n",
            "Downloading emoji-2.14.0-py3-none-any.whl (586 kB)\n",
            "\u001b[?25l   \u001b[90m━━━━━━━━━━━━━━━━━━━━━━━━━━━━━━━━━━━━━━━━\u001b[0m \u001b[32m0.0/586.9 kB\u001b[0m \u001b[31m?\u001b[0m eta \u001b[36m-:--:--\u001b[0m\r\u001b[2K   \u001b[90m━━━━━━━━━━━━━━━━━━━━━━━━━━━━━━━━━━━━━━━━\u001b[0m \u001b[32m586.9/586.9 kB\u001b[0m \u001b[31m26.8 MB/s\u001b[0m eta \u001b[36m0:00:00\u001b[0m\n",
            "\u001b[?25hInstalling collected packages: emoji\n",
            "Successfully installed emoji-2.14.0\n"
          ]
        }
      ]
    },
    {
      "cell_type": "code",
      "execution_count": 17,
      "id": "29b23ac0",
      "metadata": {
        "colab": {
          "base_uri": "https://localhost:8080/"
        },
        "id": "29b23ac0",
        "outputId": "8df123e7-33d3-46a8-ae4a-3cbfaf73f5c0"
      },
      "outputs": [
        {
          "output_type": "stream",
          "name": "stdout",
          "text": [
            "With Emoji-  I love jordans ❤️ \n",
            "Without Emoji-  I love jordans :red_heart: \n"
          ]
        }
      ],
      "source": [
        "from emoji import demojize,emojize\n",
        "txt = 'I love jordans'\n",
        "emo = emojize(txt+\" :red_heart: \", variant=\"emoji_type\")\n",
        "print('With Emoji- ',emo)\n",
        "demo = demojize(emo)\n",
        "print('Without Emoji- ',demo)"
      ]
    },
    {
      "cell_type": "code",
      "source": [
        "from emoji import demojize, emojize\n",
        "\n",
        "# Replace 'path/to/your/file.txt' with the actual file path\n",
        "file_path = 'path/to/your/file.txt'\n",
        "\n",
        "# Read the text file\n",
        "with open(file_path, 'r') as file:\n",
        "    txt = file.read()\n",
        "\n",
        "emo = emojize(txt + \" :red_heart: \", variant=\"emoji_type\")\n",
        "print('With Emoji- ', emo)\n",
        "\n",
        "demo = demojize(emo)\n",
        "print('Without Emoji- ', demo)\n"
      ],
      "metadata": {
        "id": "OBWkMjwseFlr"
      },
      "id": "OBWkMjwseFlr",
      "execution_count": null,
      "outputs": []
    },
    {
      "cell_type": "markdown",
      "id": "b5089a4f",
      "metadata": {
        "id": "b5089a4f"
      },
      "source": [
        "# 7.Sentiment Analysis"
      ]
    },
    {
      "cell_type": "code",
      "execution_count": 18,
      "id": "f7b210b5",
      "metadata": {
        "colab": {
          "base_uri": "https://localhost:8080/"
        },
        "id": "f7b210b5",
        "outputId": "c416a108-22ef-46a0-8574-5fe61c78e639"
      },
      "outputs": [
        {
          "output_type": "stream",
          "name": "stdout",
          "text": [
            "Sentiment(polarity=0.0, subjectivity=0.3333333333333333)\n",
            "Sentiment(polarity=0.5, subjectivity=0.5)\n"
          ]
        }
      ],
      "source": [
        "from textblob import TextBlob\n",
        "txt1 = \"The constant negativity and criticism from others can diminish self-esteem, create anxiety, and lead to feelings of isolation and despair.\"\n",
        "txt2=\"Embracing kindness and gratitude can uplift our spirits, strengthen relationships, and create a brighter, more harmonious world for everyone.\"\n",
        "tb1=TextBlob(txt1)\n",
        "tb2=TextBlob(txt2)\n",
        "print(tb1.sentiment)\n",
        "print(tb2.sentiment)\n"
      ]
    },
    {
      "cell_type": "code",
      "source": [
        "from textblob import TextBlob\n",
        "\n",
        "# Replace 'path/to/your/file1.txt' and 'path/to/your/file2.txt' with the actual file paths\n",
        "file_path1 = 'path/to/your/file1.txt'\n",
        "file_path2 = 'path/to/your/file2.txt'\n",
        "\n",
        "# Read the first text file\n",
        "with open(file_path1, 'r') as file:\n",
        "    txt1 = file.read()\n",
        "\n",
        "# Read the second text file\n",
        "with open(file_path2, 'r') as file:\n",
        "    txt2 = file.read()\n",
        "\n",
        "tb1 = TextBlob(txt1)\n",
        "tb2 = TextBlob(txt2)\n",
        "\n",
        "print(tb1.sentiment)\n",
        "print(tb2.sentiment)\n"
      ],
      "metadata": {
        "id": "xra0fp54eQ0K"
      },
      "id": "xra0fp54eQ0K",
      "execution_count": null,
      "outputs": []
    },
    {
      "cell_type": "code",
      "source": [
        "pip install afinn"
      ],
      "metadata": {
        "colab": {
          "base_uri": "https://localhost:8080/"
        },
        "id": "DIsyeKRVeXU1",
        "outputId": "6cfc00f8-34da-4e77-ad37-4f8f1a7fc1c7"
      },
      "id": "DIsyeKRVeXU1",
      "execution_count": 20,
      "outputs": [
        {
          "output_type": "stream",
          "name": "stdout",
          "text": [
            "Collecting afinn\n",
            "  Downloading afinn-0.1.tar.gz (52 kB)\n",
            "\u001b[?25l     \u001b[90m━━━━━━━━━━━━━━━━━━━━━━━━━━━━━━━━━━━━━━━━\u001b[0m \u001b[32m0.0/52.6 kB\u001b[0m \u001b[31m?\u001b[0m eta \u001b[36m-:--:--\u001b[0m\r\u001b[2K     \u001b[90m━━━━━━━━━━━━━━━━━━━━━━━━━━━━━━━━━━━━━━━━\u001b[0m \u001b[32m52.6/52.6 kB\u001b[0m \u001b[31m3.6 MB/s\u001b[0m eta \u001b[36m0:00:00\u001b[0m\n",
            "\u001b[?25h  Preparing metadata (setup.py) ... \u001b[?25l\u001b[?25hdone\n",
            "Building wheels for collected packages: afinn\n",
            "  Building wheel for afinn (setup.py) ... \u001b[?25l\u001b[?25hdone\n",
            "  Created wheel for afinn: filename=afinn-0.1-py3-none-any.whl size=53429 sha256=d74d02a67d90c8d28524a95a9e2891f84975e13a125d71402fee333a58ade543\n",
            "  Stored in directory: /root/.cache/pip/wheels/b0/05/90/43f79196199a138fb486902fceca30a2d1b5228e6d2db8eb90\n",
            "Successfully built afinn\n",
            "Installing collected packages: afinn\n",
            "Successfully installed afinn-0.1\n"
          ]
        }
      ]
    },
    {
      "cell_type": "code",
      "execution_count": 48,
      "id": "a698f0f7",
      "metadata": {
        "colab": {
          "base_uri": "https://localhost:8080/"
        },
        "id": "a698f0f7",
        "outputId": "739d3855-66af-4b56-e6be-7949ec7153b1"
      },
      "outputs": [
        {
          "output_type": "stream",
          "name": "stdout",
          "text": [
            "----- Sentiment Analysis Results -----\n",
            "Text 1: \n",
            "The constant negativity and criticism from others can diminish self-esteem, create anxiety, and lead to feelings of isolation and despair.\n",
            "Sentiment Score: -7.00\n",
            "\n",
            "Text 2: \n",
            "Embracing kindness and gratitude can uplift our spirits, strengthen relationships, and create a brighter, more harmonious world for everyone.\n",
            "Sentiment Score: 6.00\n",
            "\n",
            "----- Sentiment Interpretation -----\n",
            "Interpretation for Text 1: Negative sentiment\n",
            "Interpretation for Text 2: Positive sentiment\n"
          ]
        }
      ],
      "source": [
        "from afinn import Afinn\n",
        "\n",
        "# Initialize Afinn for sentiment analysis\n",
        "af = Afinn()\n",
        "\n",
        "# Sample texts for sentiment analysis\n",
        "txt1 = \"The constant negativity and criticism from others can diminish self-esteem, create anxiety, and lead to feelings of isolation and despair.\"\n",
        "txt2 = \"Embracing kindness and gratitude can uplift our spirits, strengthen relationships, and create a brighter, more harmonious world for everyone.\"\n",
        "\n",
        "# Calculate sentiment scores\n",
        "score1 = af.score(txt1)\n",
        "score2 = af.score(txt2)\n",
        "\n",
        "# Print results in a clearer format\n",
        "print(\"----- Sentiment Analysis Results -----\")\n",
        "print(f\"Text 1: \\n{txt1}\")\n",
        "print(f\"Sentiment Score: {score1:.2f}\\n\")\n",
        "\n",
        "print(f\"Text 2: \\n{txt2}\")\n",
        "print(f\"Sentiment Score: {score2:.2f}\\n\")\n",
        "\n",
        "# Interpretation of scores\n",
        "def interpret_score(score):\n",
        "    if score > 0:\n",
        "        return \"Positive sentiment\"\n",
        "    elif score < 0:\n",
        "        return \"Negative sentiment\"\n",
        "    else:\n",
        "        return \"Neutral sentiment\"\n",
        "\n",
        "print(\"----- Sentiment Interpretation -----\")\n",
        "print(f\"Interpretation for Text 1: {interpret_score(score1)}\")\n",
        "print(f\"Interpretation for Text 2: {interpret_score(score2)}\")\n"
      ]
    },
    {
      "cell_type": "code",
      "source": [
        "from afinn import Afinn\n",
        "\n",
        "# Replace 'path/to/your/file1.txt' and 'path/to/your/file2.txt' with the actual file paths\n",
        "file_path1 = 'path/to/your/file1.txt'\n",
        "file_path2 = 'path/to/your/file2.txt'\n",
        "\n",
        "# Read the first text file\n",
        "with open(file_path1, 'r') as file:\n",
        "    txt1 = file.read()\n",
        "\n",
        "# Read the second text file\n",
        "with open(file_path2, 'r') as file:\n",
        "    txt2 = file.read()\n",
        "\n",
        "af = Afinn()\n",
        "score1 = af.score(txt1)\n",
        "score2 = af.score(txt2)\n",
        "\n",
        "print(score1)\n",
        "print(score2)"
      ],
      "metadata": {
        "id": "G-CExLWNePZR"
      },
      "id": "G-CExLWNePZR",
      "execution_count": null,
      "outputs": []
    },
    {
      "cell_type": "markdown",
      "id": "4ebaab10",
      "metadata": {
        "id": "4ebaab10"
      },
      "source": [
        "Transformers for Sentiment Analysis"
      ]
    },
    {
      "cell_type": "code",
      "execution_count": 22,
      "id": "b1761f71",
      "metadata": {
        "colab": {
          "base_uri": "https://localhost:8080/",
          "height": 386,
          "referenced_widgets": [
            "1d9978d532bd46bc8ffad856c0fdd96d",
            "f5e99831ffb14609984708aa2cede719",
            "60637f659f6d43e59a7facaf5221a4fc",
            "a4000ed679a546b895d0a90fddd80ed9",
            "fc1a23bc13d84c7488b329ebd9671c50",
            "c1d2e57ca34d499ea34ba000701d5307",
            "3573ac8203cd42f89f8b7c1b1d3e1b93",
            "308f153f8eab4e829f550043e5b6b5e2",
            "f27ec22762534206850adf0c07bd6e87",
            "217f16d25e404e38965ce98c811a5ef4",
            "c7bb6ee2e1514a68ae77770565efa10c",
            "7826587b91e1440db415010009d1c2f3",
            "dc049f2fb9654476b0f2cadf53941729",
            "f1a86afa3a254e50ac1d31b0aa1df635",
            "b22e38735209446bb5bca15a68290125",
            "6ea435024f7d4b09a7b0a4235f48fa37",
            "335ba48348614db4b31debf16b0748f3",
            "3d3c21aaef194c598277496b522d4344",
            "89004a379ab349ee95ab7fee6cd1338c",
            "e4de58e7f6334af0819a7c30161f08ff",
            "1329c61bdd544c6e95829877ebee41c3",
            "d0e5138612ff4ba8a64cc5f580e10b54",
            "bbe57c5eaeff42b4b575adc6d2bf6761",
            "b59c35915cf2417fa45d860cee93bf47",
            "86a4a42ca5e848f3abfc81847e91d0e2",
            "87258bf827f446d2a269f47370e7843b",
            "ff883877c4bc41bb9afc31e3a3afc4d0",
            "01b177a3a5964449b563310f332b0b26",
            "d122c8bca1bf4ab680b4566bbac1fa59",
            "737ed8e76f824ce087f9cfd48ab651f0",
            "4364dfb830164e22853e9ba1941c85f2",
            "4570e5cdba9544be9c71da99ecbb23e2",
            "1b1047db07e243038894727da7034c9f",
            "3f1ff53d446b44c5b071a47868d73fd6",
            "9748d056ca0f406d98a3ba7edf586e88",
            "85760231bae145bca4ef00ad93805247",
            "325fc398e2524e3abe8e8563fb66eb4c",
            "d8ee6f4ee27f418ea3aaf3d51b1a220a",
            "6700c8b6391643318678c39228bbf3ad",
            "b95094babc354064abfe3914955fefd8",
            "2aba329b1db24af2b5392397c1b31fa3",
            "31a03c3653c04afa967092cfc7242502",
            "5ec5949b0c604db09fc8a404020e48f2",
            "d9e38f20e335490096921b6c599c5595"
          ]
        },
        "id": "b1761f71",
        "outputId": "d7dba58a-191d-4088-8968-22e529bd4672"
      },
      "outputs": [
        {
          "output_type": "stream",
          "name": "stderr",
          "text": [
            "No model was supplied, defaulted to distilbert/distilbert-base-uncased-finetuned-sst-2-english and revision af0f99b (https://huggingface.co/distilbert/distilbert-base-uncased-finetuned-sst-2-english).\n",
            "Using a pipeline without specifying a model name and revision in production is not recommended.\n",
            "/usr/local/lib/python3.10/dist-packages/huggingface_hub/utils/_token.py:89: UserWarning: \n",
            "The secret `HF_TOKEN` does not exist in your Colab secrets.\n",
            "To authenticate with the Hugging Face Hub, create a token in your settings tab (https://huggingface.co/settings/tokens), set it as secret in your Google Colab and restart your session.\n",
            "You will be able to reuse this secret in all of your notebooks.\n",
            "Please note that authentication is recommended but still optional to access public models or datasets.\n",
            "  warnings.warn(\n"
          ]
        },
        {
          "output_type": "display_data",
          "data": {
            "text/plain": [
              "config.json:   0%|          | 0.00/629 [00:00<?, ?B/s]"
            ],
            "application/vnd.jupyter.widget-view+json": {
              "version_major": 2,
              "version_minor": 0,
              "model_id": "1d9978d532bd46bc8ffad856c0fdd96d"
            }
          },
          "metadata": {}
        },
        {
          "output_type": "display_data",
          "data": {
            "text/plain": [
              "model.safetensors:   0%|          | 0.00/268M [00:00<?, ?B/s]"
            ],
            "application/vnd.jupyter.widget-view+json": {
              "version_major": 2,
              "version_minor": 0,
              "model_id": "7826587b91e1440db415010009d1c2f3"
            }
          },
          "metadata": {}
        },
        {
          "output_type": "display_data",
          "data": {
            "text/plain": [
              "tokenizer_config.json:   0%|          | 0.00/48.0 [00:00<?, ?B/s]"
            ],
            "application/vnd.jupyter.widget-view+json": {
              "version_major": 2,
              "version_minor": 0,
              "model_id": "bbe57c5eaeff42b4b575adc6d2bf6761"
            }
          },
          "metadata": {}
        },
        {
          "output_type": "display_data",
          "data": {
            "text/plain": [
              "vocab.txt:   0%|          | 0.00/232k [00:00<?, ?B/s]"
            ],
            "application/vnd.jupyter.widget-view+json": {
              "version_major": 2,
              "version_minor": 0,
              "model_id": "3f1ff53d446b44c5b071a47868d73fd6"
            }
          },
          "metadata": {}
        },
        {
          "output_type": "stream",
          "name": "stderr",
          "text": [
            "/usr/local/lib/python3.10/dist-packages/transformers/tokenization_utils_base.py:1601: FutureWarning: `clean_up_tokenization_spaces` was not set. It will be set to `True` by default. This behavior will be depracted in transformers v4.45, and will be then set to `False` by default. For more details check this issue: https://github.com/huggingface/transformers/issues/31884\n",
            "  warnings.warn(\n"
          ]
        },
        {
          "output_type": "stream",
          "name": "stdout",
          "text": [
            "[{'label': 'NEGATIVE', 'score': 0.9965742826461792}]\n",
            "[{'label': 'POSITIVE', 'score': 0.9998712539672852}]\n"
          ]
        }
      ],
      "source": [
        "from transformers import pipeline\n",
        "sa = pipeline(\"sentiment-analysis\")\n",
        "txt1 = \"The constant negativity and criticism from others can diminish self-esteem, create anxiety, and lead to feelings of isolation and despair.\"\n",
        "txt2=\"Embracing kindness and gratitude can uplift our spirits, strengthen relationships, and create a brighter, more harmonious world for everyone.\"\n",
        "tb1=sa(txt1)\n",
        "tb2=sa(txt2)\n",
        "print(tb1)\n",
        "print(tb2)"
      ]
    },
    {
      "cell_type": "code",
      "source": [
        "from transformers import pipeline\n",
        "\n",
        "sa = pipeline(\"sentiment-analysis\")\n",
        "\n",
        "# Replace 'path/to/your/file1.txt' and 'path/to/your/file2.txt' with the actual file paths\n",
        "file_path1 = 'path/to/your/file1.txt'\n",
        "file_path2 = 'path/to/your/file2.txt'\n",
        "\n",
        "# Read the first text file\n",
        "with open(file_path1, 'r') as file:\n",
        "    txt1 = file.read()\n",
        "\n",
        "# Read the second text file\n",
        "with open(file_path2, 'r') as file:\n",
        "    txt2 = file.read()\n",
        "\n",
        "result1 = sa(txt1)\n",
        "result2 = sa(txt2)\n",
        "\n",
        "print(result1)\n",
        "print(result2)\n"
      ],
      "metadata": {
        "colab": {
          "base_uri": "https://localhost:8080/",
          "height": 315
        },
        "id": "o_7dWCeCelkm",
        "outputId": "b10e0914-d2b5-487a-974c-ca26f8365a1e"
      },
      "id": "o_7dWCeCelkm",
      "execution_count": 24,
      "outputs": [
        {
          "output_type": "stream",
          "name": "stderr",
          "text": [
            "No model was supplied, defaulted to distilbert/distilbert-base-uncased-finetuned-sst-2-english and revision af0f99b (https://huggingface.co/distilbert/distilbert-base-uncased-finetuned-sst-2-english).\n",
            "Using a pipeline without specifying a model name and revision in production is not recommended.\n",
            "/usr/local/lib/python3.10/dist-packages/transformers/tokenization_utils_base.py:1601: FutureWarning: `clean_up_tokenization_spaces` was not set. It will be set to `True` by default. This behavior will be depracted in transformers v4.45, and will be then set to `False` by default. For more details check this issue: https://github.com/huggingface/transformers/issues/31884\n",
            "  warnings.warn(\n"
          ]
        },
        {
          "output_type": "error",
          "ename": "FileNotFoundError",
          "evalue": "[Errno 2] No such file or directory: 'path/to/your/file1.txt'",
          "traceback": [
            "\u001b[0;31m---------------------------------------------------------------------------\u001b[0m",
            "\u001b[0;31mFileNotFoundError\u001b[0m                         Traceback (most recent call last)",
            "\u001b[0;32m<ipython-input-24-6b0d17d1417b>\u001b[0m in \u001b[0;36m<cell line: 10>\u001b[0;34m()\u001b[0m\n\u001b[1;32m      8\u001b[0m \u001b[0;34m\u001b[0m\u001b[0m\n\u001b[1;32m      9\u001b[0m \u001b[0;31m# Read the first text file\u001b[0m\u001b[0;34m\u001b[0m\u001b[0;34m\u001b[0m\u001b[0m\n\u001b[0;32m---> 10\u001b[0;31m \u001b[0;32mwith\u001b[0m \u001b[0mopen\u001b[0m\u001b[0;34m(\u001b[0m\u001b[0mfile_path1\u001b[0m\u001b[0;34m,\u001b[0m \u001b[0;34m'r'\u001b[0m\u001b[0;34m)\u001b[0m \u001b[0;32mas\u001b[0m \u001b[0mfile\u001b[0m\u001b[0;34m:\u001b[0m\u001b[0;34m\u001b[0m\u001b[0;34m\u001b[0m\u001b[0m\n\u001b[0m\u001b[1;32m     11\u001b[0m     \u001b[0mtxt1\u001b[0m \u001b[0;34m=\u001b[0m \u001b[0mfile\u001b[0m\u001b[0;34m.\u001b[0m\u001b[0mread\u001b[0m\u001b[0;34m(\u001b[0m\u001b[0;34m)\u001b[0m\u001b[0;34m\u001b[0m\u001b[0;34m\u001b[0m\u001b[0m\n\u001b[1;32m     12\u001b[0m \u001b[0;34m\u001b[0m\u001b[0m\n",
            "\u001b[0;31mFileNotFoundError\u001b[0m: [Errno 2] No such file or directory: 'path/to/your/file1.txt'"
          ]
        }
      ]
    },
    {
      "cell_type": "markdown",
      "id": "98f0e854",
      "metadata": {
        "id": "98f0e854"
      },
      "source": [
        "# 8.Named Entity Recognition"
      ]
    },
    {
      "cell_type": "code",
      "execution_count": 49,
      "id": "98d71e17",
      "metadata": {
        "colab": {
          "base_uri": "https://localhost:8080/"
        },
        "id": "98d71e17",
        "outputId": "f35e6d8a-3f58-477c-b62d-ab0c187849ad"
      },
      "outputs": [
        {
          "output_type": "stream",
          "name": "stdout",
          "text": [
            "----- Named Entity Recognition Results -----\n",
            "Text: \"Apple is looking at buying U.K. startup for $1 billion.\"\n",
            "\n",
            "Detected Entities:\n",
            "----------------------\n",
            "Entity: Apple\n",
            "Label: ORG\n",
            "\n",
            "Entity: U.K.\n",
            "Label: GPE\n",
            "\n",
            "Entity: $1 billion\n",
            "Label: MONEY\n",
            "\n",
            "Total Entities Detected: 3\n"
          ]
        }
      ],
      "source": [
        "import spacy\n",
        "\n",
        "# Load the English NLP model\n",
        "nlp = spacy.load(\"en_core_web_sm\")\n",
        "\n",
        "# Sample text for named entity recognition\n",
        "text = \"Apple is looking at buying U.K. startup for $1 billion.\"\n",
        "doc = nlp(text)\n",
        "\n",
        "# Print results in a clearer format\n",
        "print(\"----- Named Entity Recognition Results -----\")\n",
        "print(f\"Text: \\\"{text}\\\"\\n\")\n",
        "print(\"Detected Entities:\")\n",
        "print(\"----------------------\")\n",
        "\n",
        "# Loop through detected entities and print them\n",
        "for ent in doc.ents:\n",
        "    print(f\"Entity: {ent.text}\\nLabel: {ent.label_}\\n\")\n",
        "\n",
        "# Optional: Add a summary of the number of entities detected\n",
        "print(f\"Total Entities Detected: {len(doc.ents)}\")"
      ]
    },
    {
      "cell_type": "code",
      "source": [
        "import spacy\n",
        "\n",
        "# Load the spaCy model\n",
        "nlp = spacy.load(\"en_core_web_sm\")\n",
        "\n",
        "# Replace 'path/to/your/file.txt' with the actual file path\n",
        "file_path = 'path/to/your/file.txt'\n",
        "\n",
        "# Read the text file\n",
        "with open(file_path, 'r') as file:\n",
        "    text = file.read()\n",
        "\n",
        "# Process the text\n",
        "doc = nlp(text)\n",
        "\n",
        "# Print the entities found in the text\n",
        "for ent in doc.ents:\n",
        "    print(ent.text, ent.label_)"
      ],
      "metadata": {
        "id": "YXYnzxnFewix"
      },
      "id": "YXYnzxnFewix",
      "execution_count": null,
      "outputs": []
    },
    {
      "cell_type": "markdown",
      "id": "87f3da3e",
      "metadata": {
        "id": "87f3da3e"
      },
      "source": [
        "# 9.Similarity"
      ]
    },
    {
      "cell_type": "code",
      "execution_count": 50,
      "id": "3d57004d",
      "metadata": {
        "colab": {
          "base_uri": "https://localhost:8080/"
        },
        "id": "3d57004d",
        "outputId": "6a2666ce-761a-4a2c-fc74-9d2d32edabd7"
      },
      "outputs": [
        {
          "output_type": "stream",
          "name": "stdout",
          "text": [
            "----- Similarity Analysis -----\n",
            "Phrases: \"king is the hero\" and \"queen is the hero\"\n",
            "Similarity Score: 0.9319\n",
            "Interpretation: These phrases are very similar.\n"
          ]
        },
        {
          "output_type": "stream",
          "name": "stderr",
          "text": [
            "<ipython-input-50-bfbfd038d5be>:11: UserWarning: [W007] The model you're using has no word vectors loaded, so the result of the Doc.similarity method will be based on the tagger, parser and NER, which may not give useful similarity judgements. This may happen if you're using one of the small models, e.g. `en_core_web_sm`, which don't ship with word vectors and only use context-sensitive tensors. You can always add your own word vectors, or use one of the larger models instead if available.\n",
            "  similarity_score = word1.similarity(word2)\n"
          ]
        }
      ],
      "source": [
        "import spacy\n",
        "\n",
        "# Load the English NLP model\n",
        "nlp = spacy.load(\"en_core_web_sm\")\n",
        "\n",
        "# Define the phrases for similarity comparison\n",
        "word1 = nlp(\"king is the hero\")\n",
        "word2 = nlp(\"queen is the hero\")\n",
        "\n",
        "# Calculate the similarity score\n",
        "similarity_score = word1.similarity(word2)\n",
        "\n",
        "# Print the result in a clearer format\n",
        "print(\"----- Similarity Analysis -----\")\n",
        "print(f\"Phrases: \\\"{word1.text}\\\" and \\\"{word2.text}\\\"\")\n",
        "print(f\"Similarity Score: {similarity_score:.4f}\")\n",
        "\n",
        "# Interpretation of the similarity score\n",
        "if similarity_score > 0.8:\n",
        "    interpretation = \"These phrases are very similar.\"\n",
        "elif similarity_score > 0.5:\n",
        "    interpretation = \"These phrases are somewhat similar.\"\n",
        "else:\n",
        "    interpretation = \"These phrases are not very similar.\"\n",
        "\n",
        "print(f\"Interpretation: {interpretation}\")"
      ]
    },
    {
      "cell_type": "code",
      "source": [
        "from sklearn.feature_extraction.text import TfidfVectorizer\n",
        "from sklearn.metrics.pairwise import cosine_similarity\n",
        "\n",
        "# Define the three sentences/documents\n",
        "documents = [\n",
        "    \"I love Italian cuisine, especially pasta.\",\n",
        "    \"My favourite hobbies include cooking.\",\n",
        "    \"I have a passion for exploring new recipes and trying out different restaurants.\"\n",
        "]\n",
        "\n",
        "# Create the TfidfVectorizer and compute the TF-IDF matrix\n",
        "vectorizer = TfidfVectorizer()\n",
        "tfidf_matrix = vectorizer.fit_transform(documents)\n",
        "\n",
        "# Calculate cosine similarity between the documents\n",
        "cosine_sim = cosine_similarity(tfidf_matrix, tfidf_matrix)\n",
        "\n",
        "# Print the cosine similarity matrix with clear formatting\n",
        "print(\"----- Cosine Similarity Matrix -----\")\n",
        "for i, row in enumerate(cosine_sim):\n",
        "    print(f\"Document {i + 1}: {documents[i]}\")\n",
        "    for j, sim in enumerate(row):\n",
        "        print(f\"  Similarity to Document {j + 1}: {sim:.4f}\")\n",
        "    print()  # Add a newline for better separation between documents"
      ],
      "metadata": {
        "colab": {
          "base_uri": "https://localhost:8080/"
        },
        "id": "7_QCzx_We7aI",
        "outputId": "f0dc8470-a50d-4f50-8cde-da60783ea624"
      },
      "id": "7_QCzx_We7aI",
      "execution_count": 51,
      "outputs": [
        {
          "output_type": "stream",
          "name": "stdout",
          "text": [
            "----- Cosine Similarity Matrix -----\n",
            "Document 1: I love Italian cuisine, especially pasta.\n",
            "  Similarity to Document 1: 1.0000\n",
            "  Similarity to Document 2: 0.0000\n",
            "  Similarity to Document 3: 0.0000\n",
            "\n",
            "Document 2: My favourite hobbies include cooking.\n",
            "  Similarity to Document 1: 0.0000\n",
            "  Similarity to Document 2: 1.0000\n",
            "  Similarity to Document 3: 0.0000\n",
            "\n",
            "Document 3: I have a passion for exploring new recipes and trying out different restaurants.\n",
            "  Similarity to Document 1: 0.0000\n",
            "  Similarity to Document 2: 0.0000\n",
            "  Similarity to Document 3: 1.0000\n",
            "\n"
          ]
        }
      ]
    },
    {
      "cell_type": "code",
      "source": [
        "from sklearn.feature_extraction.text import TfidfVectorizer\n",
        "from sklearn.metrics.pairwise import cosine_similarity\n",
        "\n",
        "# Define the three sentences/documents\n",
        "documents = [\n",
        "    \"I love Italian cuisine, especially pasta.\",\n",
        "    \"My favourite hobbies include cooking.\",\n",
        "    \"I have a passion for exploring new recipes and trying out different restaurants.\"\n",
        "]\n",
        "\n",
        "# Create the TfidfVectorizer and compute the TF-IDF matrix\n",
        "vectorizer = TfidfVectorizer()\n",
        "tfidf_matrix = vectorizer.fit_transform(documents)\n",
        "\n",
        "# Calculate cosine similarity between the documents\n",
        "cosine_sim = cosine_similarity(tfidf_matrix, tfidf_matrix)\n",
        "\n",
        "# Extract the similarity scores between the documents\n",
        "score_1_2 = cosine_sim[0][1]  # Similarity between document 1 and document 2\n",
        "score_1_3 = cosine_sim[0][2]  # Similarity between document 1 and document 3\n",
        "score_2_3 = cosine_sim[1][2]  # Similarity between document 2 and document 3\n",
        "\n",
        "# Print the scores with clear context\n",
        "print(\"----- Cosine Similarity Scores -----\")\n",
        "print(f\"1. Document 1: '{documents[0]}'\")\n",
        "print(f\"   Document 2: '{documents[1]}'\")\n",
        "print(f\"   Cosine similarity between Document 1 and Document 2: {score_1_2:.4f}\\n\")\n",
        "\n",
        "print(f\"2. Document 1: '{documents[0]}'\")\n",
        "print(f\"   Document 3: '{documents[2]}'\")\n",
        "print(f\"   Cosine similarity between Document 1 and Document 3: {score_1_3:.4f}\\n\")\n",
        "\n",
        "print(f\"3. Document 2: '{documents[1]}'\")\n",
        "print(f\"   Document 3: '{documents[2]}'\")\n",
        "print(f\"   Cosine similarity between Document 2 and Document 3: {score_2_3:.4f}\")"
      ],
      "metadata": {
        "colab": {
          "base_uri": "https://localhost:8080/"
        },
        "id": "kyjdDrqbfbIN",
        "outputId": "f404159d-8b62-42d2-bab5-6d86b1eb5148"
      },
      "id": "kyjdDrqbfbIN",
      "execution_count": 52,
      "outputs": [
        {
          "output_type": "stream",
          "name": "stdout",
          "text": [
            "----- Cosine Similarity Scores -----\n",
            "1. Document 1: 'I love Italian cuisine, especially pasta.'\n",
            "   Document 2: 'My favourite hobbies include cooking.'\n",
            "   Cosine similarity between Document 1 and Document 2: 0.0000\n",
            "\n",
            "2. Document 1: 'I love Italian cuisine, especially pasta.'\n",
            "   Document 3: 'I have a passion for exploring new recipes and trying out different restaurants.'\n",
            "   Cosine similarity between Document 1 and Document 3: 0.0000\n",
            "\n",
            "3. Document 2: 'My favourite hobbies include cooking.'\n",
            "   Document 3: 'I have a passion for exploring new recipes and trying out different restaurants.'\n",
            "   Cosine similarity between Document 2 and Document 3: 0.0000\n"
          ]
        }
      ]
    },
    {
      "cell_type": "code",
      "source": [
        "import spacy\n",
        "\n",
        "# Load the spaCy model\n",
        "nlp = spacy.load(\"en_core_web_sm\")\n",
        "\n",
        "# Replace 'path/to/your/file1.txt' and 'path/to/your/file2.txt' with the actual file paths\n",
        "file_path1 = 'path/to/your/file1.txt'\n",
        "file_path2 = 'path/to/your/file2.txt'\n",
        "\n",
        "# Read the first text file\n",
        "with open(file_path1, 'r') as file:\n",
        "    text1 = file.read()\n",
        "\n",
        "# Read the second text file\n",
        "with open(file_path2, 'r') as file:\n",
        "    text2 = file.read()\n",
        "\n",
        "# Process the texts\n",
        "word1 = nlp(text1)\n",
        "word2 = nlp(text2)\n",
        "\n",
        "# Calculate cosine similarity\n",
        "sim = word1.similarity(word2)\n",
        "\n",
        "print(sim)"
      ],
      "metadata": {
        "colab": {
          "base_uri": "https://localhost:8080/",
          "height": 222
        },
        "id": "rkkfzbkXfAUf",
        "outputId": "ab60f5ce-ba67-4379-e1b7-7754fd55960d"
      },
      "id": "rkkfzbkXfAUf",
      "execution_count": 27,
      "outputs": [
        {
          "output_type": "error",
          "ename": "FileNotFoundError",
          "evalue": "[Errno 2] No such file or directory: 'path/to/your/file1.txt'",
          "traceback": [
            "\u001b[0;31m---------------------------------------------------------------------------\u001b[0m",
            "\u001b[0;31mFileNotFoundError\u001b[0m                         Traceback (most recent call last)",
            "\u001b[0;32m<ipython-input-27-16a09e5f367c>\u001b[0m in \u001b[0;36m<cell line: 11>\u001b[0;34m()\u001b[0m\n\u001b[1;32m      9\u001b[0m \u001b[0;34m\u001b[0m\u001b[0m\n\u001b[1;32m     10\u001b[0m \u001b[0;31m# Read the first text file\u001b[0m\u001b[0;34m\u001b[0m\u001b[0;34m\u001b[0m\u001b[0m\n\u001b[0;32m---> 11\u001b[0;31m \u001b[0;32mwith\u001b[0m \u001b[0mopen\u001b[0m\u001b[0;34m(\u001b[0m\u001b[0mfile_path1\u001b[0m\u001b[0;34m,\u001b[0m \u001b[0;34m'r'\u001b[0m\u001b[0;34m)\u001b[0m \u001b[0;32mas\u001b[0m \u001b[0mfile\u001b[0m\u001b[0;34m:\u001b[0m\u001b[0;34m\u001b[0m\u001b[0;34m\u001b[0m\u001b[0m\n\u001b[0m\u001b[1;32m     12\u001b[0m     \u001b[0mtext1\u001b[0m \u001b[0;34m=\u001b[0m \u001b[0mfile\u001b[0m\u001b[0;34m.\u001b[0m\u001b[0mread\u001b[0m\u001b[0;34m(\u001b[0m\u001b[0;34m)\u001b[0m\u001b[0;34m\u001b[0m\u001b[0;34m\u001b[0m\u001b[0m\n\u001b[1;32m     13\u001b[0m \u001b[0;34m\u001b[0m\u001b[0m\n",
            "\u001b[0;31mFileNotFoundError\u001b[0m: [Errno 2] No such file or directory: 'path/to/your/file1.txt'"
          ]
        }
      ]
    },
    {
      "cell_type": "markdown",
      "id": "d3b8046e",
      "metadata": {
        "id": "d3b8046e"
      },
      "source": [
        "# 10.Grammar Checking"
      ]
    },
    {
      "cell_type": "code",
      "source": [
        "pip install language_tool_python"
      ],
      "metadata": {
        "colab": {
          "base_uri": "https://localhost:8080/"
        },
        "id": "F_weOAnifxgi",
        "outputId": "fc40ec36-2f54-4ed9-8151-1c998b535981"
      },
      "id": "F_weOAnifxgi",
      "execution_count": 31,
      "outputs": [
        {
          "output_type": "stream",
          "name": "stdout",
          "text": [
            "Collecting language_tool_python\n",
            "  Downloading language_tool_python-2.8.1-py3-none-any.whl.metadata (12 kB)\n",
            "Requirement already satisfied: pip in /usr/local/lib/python3.10/dist-packages (from language_tool_python) (24.1.2)\n",
            "Requirement already satisfied: requests in /usr/local/lib/python3.10/dist-packages (from language_tool_python) (2.32.3)\n",
            "Requirement already satisfied: tqdm in /usr/local/lib/python3.10/dist-packages (from language_tool_python) (4.66.5)\n",
            "Requirement already satisfied: wheel in /usr/local/lib/python3.10/dist-packages (from language_tool_python) (0.44.0)\n",
            "Requirement already satisfied: charset-normalizer<4,>=2 in /usr/local/lib/python3.10/dist-packages (from requests->language_tool_python) (3.4.0)\n",
            "Requirement already satisfied: idna<4,>=2.5 in /usr/local/lib/python3.10/dist-packages (from requests->language_tool_python) (3.10)\n",
            "Requirement already satisfied: urllib3<3,>=1.21.1 in /usr/local/lib/python3.10/dist-packages (from requests->language_tool_python) (2.2.3)\n",
            "Requirement already satisfied: certifi>=2017.4.17 in /usr/local/lib/python3.10/dist-packages (from requests->language_tool_python) (2024.8.30)\n",
            "Downloading language_tool_python-2.8.1-py3-none-any.whl (35 kB)\n",
            "Installing collected packages: language_tool_python\n",
            "Successfully installed language_tool_python-2.8.1\n"
          ]
        }
      ]
    },
    {
      "cell_type": "code",
      "execution_count": 53,
      "id": "5002aee9",
      "metadata": {
        "colab": {
          "base_uri": "https://localhost:8080/"
        },
        "id": "5002aee9",
        "outputId": "7239a7ee-2b25-4b44-e6b4-232d804d58f4"
      },
      "outputs": [
        {
          "output_type": "stream",
          "name": "stdout",
          "text": [
            "Original Text:\n",
            "She go to the market.\n",
            "\n",
            "--- Corrections Found ---\n",
            "Error: She go to the market.\n",
            "Issue: The pronoun ‘She’ is usually used with a third-person or a past tense verb.\n",
            "Suggested Correction: ['goes', 'went']\n",
            "\n",
            "Corrected Text:\n",
            "She goes to the market.\n"
          ]
        }
      ],
      "source": [
        "#!pip install language-tool-python\n",
        "import language_tool_python\n",
        "\n",
        "# Initialize the language tool for English (US)\n",
        "tool = language_tool_python.LanguageTool('en-US')\n",
        "\n",
        "# Text to be checked\n",
        "text = \"She go to the market.\"\n",
        "\n",
        "# Check the text for errors\n",
        "corrections = tool.check(text)\n",
        "\n",
        "# Print the original text\n",
        "print(\"Original Text:\")\n",
        "print(text)\n",
        "print(\"\\n--- Corrections Found ---\")\n",
        "\n",
        "# Display each correction with the issue and suggestion\n",
        "for error in corrections:\n",
        "    print(f\"Error: {error.context}\")\n",
        "    print(f\"Issue: {error.message}\")\n",
        "    print(f\"Suggested Correction: {error.replacements}\")\n",
        "    print()\n",
        "\n",
        "# Optionally, you can also provide a corrected version of the text\n",
        "corrected_text = tool.correct(text)\n",
        "print(\"Corrected Text:\")\n",
        "print(corrected_text)"
      ]
    },
    {
      "cell_type": "markdown",
      "id": "feafc23d",
      "metadata": {
        "id": "feafc23d"
      },
      "source": [
        "# 11.N-Grams"
      ]
    },
    {
      "cell_type": "code",
      "execution_count": 54,
      "id": "fe6fd719",
      "metadata": {
        "colab": {
          "base_uri": "https://localhost:8080/"
        },
        "id": "fe6fd719",
        "outputId": "40babb27-076b-49ab-b1e0-bb3b1e929d3c"
      },
      "outputs": [
        {
          "output_type": "stream",
          "name": "stdout",
          "text": [
            "Bigrams:\n",
            "('Apple', 'is')\n",
            "('is', 'looking')\n",
            "('looking', 'at')\n",
            "('at', 'buying')\n",
            "('buying', 'U.K.')\n",
            "('U.K.', 'startup')\n",
            "('startup', 'for')\n",
            "('for', '$')\n",
            "('$', '1')\n",
            "('1', 'billion')\n",
            "('billion', '.')\n"
          ]
        }
      ],
      "source": [
        "import nltk\n",
        "from nltk import ngrams\n",
        "from nltk.tokenize import word_tokenize\n",
        "\n",
        "# Ensure that you have the necessary NLTK resources\n",
        "nltk.download('punkt', quiet=True)\n",
        "\n",
        "# Input text\n",
        "text = \"Apple is looking at buying U.K. startup for $1 billion.\"\n",
        "\n",
        "# Tokenize the text into words\n",
        "tokens = word_tokenize(text)\n",
        "\n",
        "# Generate bigrams\n",
        "bigrams = list(ngrams(tokens, 2))\n",
        "\n",
        "# Print the bigrams\n",
        "print(\"Bigrams:\")\n",
        "for bg in bigrams:\n",
        "    print(bg)"
      ]
    },
    {
      "cell_type": "markdown",
      "id": "cf9eb5da",
      "metadata": {
        "id": "cf9eb5da"
      },
      "source": [
        "Transformers for Named Entity Recognition"
      ]
    },
    {
      "cell_type": "code",
      "execution_count": 55,
      "id": "035f0799",
      "metadata": {
        "colab": {
          "base_uri": "https://localhost:8080/"
        },
        "id": "035f0799",
        "outputId": "f4954ebb-55c6-4158-9564-17a343eb15b9"
      },
      "outputs": [
        {
          "output_type": "stream",
          "name": "stderr",
          "text": [
            "No model was supplied, defaulted to dbmdz/bert-large-cased-finetuned-conll03-english and revision f2482bf (https://huggingface.co/dbmdz/bert-large-cased-finetuned-conll03-english).\n",
            "Using a pipeline without specifying a model name and revision in production is not recommended.\n",
            "Some weights of the model checkpoint at dbmdz/bert-large-cased-finetuned-conll03-english were not used when initializing BertForTokenClassification: ['bert.pooler.dense.bias', 'bert.pooler.dense.weight']\n",
            "- This IS expected if you are initializing BertForTokenClassification from the checkpoint of a model trained on another task or with another architecture (e.g. initializing a BertForSequenceClassification model from a BertForPreTraining model).\n",
            "- This IS NOT expected if you are initializing BertForTokenClassification from the checkpoint of a model that you expect to be exactly identical (initializing a BertForSequenceClassification model from a BertForSequenceClassification model).\n",
            "/usr/local/lib/python3.10/dist-packages/transformers/tokenization_utils_base.py:1601: FutureWarning: `clean_up_tokenization_spaces` was not set. It will be set to `True` by default. This behavior will be depracted in transformers v4.45, and will be then set to `False` by default. For more details check this issue: https://github.com/huggingface/transformers/issues/31884\n",
            "  warnings.warn(\n"
          ]
        },
        {
          "output_type": "stream",
          "name": "stdout",
          "text": [
            "Named Entities:\n",
            "Entity: Apple, Label: ORG, Score: 0.9991\n",
            "Entity: U, Label: LOC, Score: 0.9997\n",
            "Entity: K, Label: LOC, Score: 0.9987\n"
          ]
        }
      ],
      "source": [
        "from transformers import pipeline\n",
        "\n",
        "# Initialize the NER pipeline\n",
        "ner_pipeline = pipeline(\"ner\", aggregation_strategy=\"simple\")\n",
        "\n",
        "# Input text\n",
        "text = \"Apple is looking at buying U.K. startup for $1 billion.\"\n",
        "\n",
        "# Perform NER on the text\n",
        "entities = ner_pipeline(text)\n",
        "\n",
        "# Print the identified entities\n",
        "print(\"Named Entities:\")\n",
        "for entity in entities:\n",
        "    print(f\"Entity: {entity['word']}, Label: {entity['entity_group']}, Score: {entity['score']:.4f}\")"
      ]
    },
    {
      "cell_type": "markdown",
      "id": "56c98594",
      "metadata": {
        "id": "56c98594"
      },
      "source": [
        "# 12.Fuzzy Matching"
      ]
    },
    {
      "cell_type": "code",
      "source": [
        "pip install fuzzywuzzy"
      ],
      "metadata": {
        "colab": {
          "base_uri": "https://localhost:8080/"
        },
        "id": "C340R7iNg0PX",
        "outputId": "01897c29-9184-46f6-c372-25001a42ccfe"
      },
      "id": "C340R7iNg0PX",
      "execution_count": 37,
      "outputs": [
        {
          "output_type": "stream",
          "name": "stdout",
          "text": [
            "Collecting fuzzywuzzy\n",
            "  Downloading fuzzywuzzy-0.18.0-py2.py3-none-any.whl.metadata (4.9 kB)\n",
            "Downloading fuzzywuzzy-0.18.0-py2.py3-none-any.whl (18 kB)\n",
            "Installing collected packages: fuzzywuzzy\n",
            "Successfully installed fuzzywuzzy-0.18.0\n"
          ]
        }
      ]
    },
    {
      "cell_type": "code",
      "execution_count": 56,
      "id": "aeea46d3",
      "metadata": {
        "colab": {
          "base_uri": "https://localhost:8080/"
        },
        "id": "aeea46d3",
        "outputId": "f6200f91-230e-4ac4-b990-e24db2db19fa"
      },
      "outputs": [
        {
          "output_type": "stream",
          "name": "stdout",
          "text": [
            "Similarity between 'Hello there world!' and 'Hello World!': 73%\n"
          ]
        }
      ],
      "source": [
        "from fuzzywuzzy import fuzz\n",
        "\n",
        "# Define the two strings to compare\n",
        "string1 = \"Hello there world!\"\n",
        "string2 = \"Hello World!\"\n",
        "\n",
        "# Calculate the similarity ratio between the two strings\n",
        "similarity = fuzz.ratio(string1, string2)\n",
        "\n",
        "# Print the similarity score with context\n",
        "print(f\"Similarity between '{string1}' and '{string2}': {similarity}%\")"
      ]
    },
    {
      "cell_type": "markdown",
      "id": "62c27e9f",
      "metadata": {
        "id": "62c27e9f"
      },
      "source": [
        "# Spam Detection"
      ]
    },
    {
      "cell_type": "code",
      "execution_count": 42,
      "id": "3b1e4a89",
      "metadata": {
        "colab": {
          "base_uri": "https://localhost:8080/",
          "height": 1000
        },
        "id": "3b1e4a89",
        "outputId": "da1505c9-0e3d-4cf2-f6ea-c2030a5c6ffd"
      },
      "outputs": [
        {
          "output_type": "stream",
          "name": "stdout",
          "text": [
            "\n",
            "Best Parameters: {'nb__alpha': 0.1}\n",
            "\n",
            "--- Evaluation Metrics ---\n",
            "Spam Detection Accuracy: 50.00%\n",
            "Precision: 40.00%\n",
            "Recall: 33.33%\n",
            "F1 Score: 36.36%\n",
            "\n"
          ]
        },
        {
          "output_type": "display_data",
          "data": {
            "text/plain": [
              "<Figure size 1000x500 with 1 Axes>"
            ],
            "image/png": "[encoded data removed]"
          },
          "metadata": {}
        },
        {
          "output_type": "display_data",
          "data": {
            "text/plain": [
              "<Figure size 800x600 with 2 Axes>"
            ],
            "image/png": "[encoded data removed]"
          },
          "metadata": {}
        },
        {
          "output_type": "display_data",
          "data": {
            "text/plain": [
              "<Figure size 800x500 with 1 Axes>"
            ],
            "image/png": "[encoded data removed]"
          },
          "metadata": {}
        },
        {
          "output_type": "display_data",
          "data": {
            "text/plain": [
              "<Figure size 800x600 with 1 Axes>"
            ],
            "image/png": "[encoded data removed]"
          },
          "metadata": {}
        },
        {
          "output_type": "stream",
          "name": "stdout",
          "text": [
            "Win a free iPhone now! is classified as Spam\n"
          ]
        }
      ],
      "source": [
        "import pandas as pd\n",
        "import numpy as np\n",
        "import re\n",
        "from sklearn.feature_extraction.text import TfidfVectorizer\n",
        "from sklearn.model_selection import train_test_split, GridSearchCV\n",
        "from sklearn.naive_bayes import MultinomialNB\n",
        "from sklearn.metrics import accuracy_score, precision_score, recall_score, f1_score, confusion_matrix\n",
        "import seaborn as sns\n",
        "import matplotlib.pyplot as plt\n",
        "from sklearn.pipeline import Pipeline\n",
        "\n",
        "# Sample data (more balanced and larger dataset)\n",
        "data = {\n",
        "    'texts': [\n",
        "        \"Congratulations, you've won a free ticket!\",\n",
        "        \"Meeting scheduled at 10 AM tomorrow.\",\n",
        "        \"You have won a $1000 gift card, claim now!\",\n",
        "        \"Let's catch up over coffee this weekend.\",\n",
        "        \"Exclusive offer! Buy one, get one free.\",\n",
        "        \"Reminder: Your appointment is scheduled for 2 PM.\",\n",
        "        \"Urgent: Your account has been compromised.\",\n",
        "        \"Are you available for a quick call tomorrow?\",\n",
        "        \"This is your last chance to claim your prize.\",\n",
        "        \"The report is due tomorrow, please review.\",\n",
        "        \"You have been selected for a cash prize!\",\n",
        "        \"Please verify your account information immediately.\",\n",
        "        \"Don't miss out on this limited-time offer!\",\n",
        "        \"Your subscription will expire soon. Renew now.\",\n",
        "        \"Congratulations! You've won a cruise vacation!\",\n",
        "        \"This is not a spam message, just checking in.\",\n",
        "        \"We have a special promotion just for you.\",\n",
        "        \"Act fast! Only a few items left in stock!\",\n",
        "        \"Your invoice is attached. Please review it.\",\n",
        "        \"You've been selected for a chance to win cash!\",\n",
        "        \"This is a reminder for your upcoming meeting.\",\n",
        "        \"New feature alert! Check out our latest updates.\",\n",
        "        \"You can earn money from home easily.\",\n",
        "        \"Your feedback is valuable to us. Please respond.\",\n",
        "        \"Important: Your password needs to be reset.\",\n",
        "        \"You've received a payment of $500.\",\n",
        "        \"Last chance to claim your reward!\",\n",
        "        \"Your order has been shipped.\",\n",
        "        \"Get rich quick with our investment plan.\",\n",
        "        \"This email is to confirm your recent purchase.\",\n",
        "        \"We value your opinion! Take our survey.\",\n",
        "        \"Don't miss out on this great opportunity!\",\n",
        "        \"Meet singles in your area!\",\n",
        "        \"You have a new message from your bank.\",\n",
        "        \"Urgent: Action required on your account.\",\n",
        "        \"Your package is on the way!\",\n",
        "        \"You've won a free gift just for trying us out.\",\n",
        "        \"Join our team and earn a great income.\",\n",
        "        \"Your account will be suspended unless you act now.\",\n",
        "        \"This is your last notice to pay your bill.\",\n",
        "        \"Get paid to work from home!\",\n",
        "        \"You are a lucky winner!\",\n",
        "        \"Click here to claim your prize!\",\n",
        "        \"Update your information to continue enjoying our services.\",\n",
        "        \"Congratulations, you're eligible for a special discount!\"\n",
        "    ],\n",
        "    'labels': [\n",
        "        1, 0, 1, 0, 1, 0, 1, 0, 1, 0, 1, 1, 1, 0, 1, 0,\n",
        "        1, 1, 0, 0, 0, 0, 1, 1, 0, 0, 0, 1, 0, 0, 1, 0,\n",
        "        1, 1, 1, 1, 0, 1, 0, 0, 1, 0, 0, 0, 0  # Ensure lengths match\n",
        "    ]\n",
        "}\n",
        "\n",
        "# Create a DataFrame\n",
        "df = pd.DataFrame(data)\n",
        "\n",
        "# Function to preprocess text\n",
        "def preprocess_text(text):\n",
        "    text = text.lower()  # Lowercase\n",
        "    text = re.sub(r'\\d+', '', text)  # Remove numbers\n",
        "    text = re.sub(r'[^\\w\\s]', '', text)  # Remove punctuation\n",
        "    return text\n",
        "\n",
        "# Preprocess the texts\n",
        "df['texts'] = df['texts'].apply(preprocess_text)\n",
        "\n",
        "# Split the data\n",
        "X = df['texts']\n",
        "y = df['labels']\n",
        "X_train, X_test, y_train, y_test = train_test_split(X, y, test_size=0.3, random_state=42)\n",
        "\n",
        "# Create a pipeline with TF-IDF and Naive Bayes\n",
        "pipeline = Pipeline([\n",
        "    ('tfidf', TfidfVectorizer(stop_words='english')),\n",
        "    ('nb', MultinomialNB())\n",
        "])\n",
        "\n",
        "# Hyperparameter tuning using GridSearchCV\n",
        "param_grid = {\n",
        "    'nb__alpha': [0.1, 0.5, 1.0, 1.5, 2.0]  # Smoothing parameter for Naive Bayes\n",
        "}\n",
        "\n",
        "grid_search = GridSearchCV(pipeline, param_grid, cv=5, scoring='accuracy')\n",
        "grid_search.fit(X_train, y_train)\n",
        "\n",
        "# Best model\n",
        "best_model = grid_search.best_estimator_\n",
        "\n",
        "# Predictions\n",
        "y_pred = best_model.predict(X_test)\n",
        "\n",
        "# Calculate metrics\n",
        "accuracy = accuracy_score(y_test, y_pred)\n",
        "precision = precision_score(y_test, y_pred)\n",
        "recall = recall_score(y_test, y_pred)\n",
        "f1 = f1_score(y_test, y_pred)\n",
        "\n",
        "# Print evaluation metrics with spacing\n",
        "print(\"\\nBest Parameters:\", grid_search.best_params_)\n",
        "print(\"\\n--- Evaluation Metrics ---\")\n",
        "print(f\"Spam Detection Accuracy: {accuracy * 100:.2f}%\")\n",
        "print(f\"Precision: {precision * 100:.2f}%\")\n",
        "print(f\"Recall: {recall * 100:.2f}%\")\n",
        "print(f\"F1 Score: {f1 * 100:.2f}%\\n\")\n",
        "\n",
        "# Summary Statistics\n",
        "summary_stats = pd.DataFrame({\n",
        "    'Metric': ['Accuracy', 'Precision', 'Recall', 'F1 Score'],\n",
        "    'Value': [accuracy, precision, recall, f1]\n",
        "})\n",
        "\n",
        "plt.figure(figsize=(10, 5))\n",
        "sns.barplot(x='Metric', y='Value', data=summary_stats)\n",
        "plt.ylim(0, 1)\n",
        "plt.title('Model Performance Metrics')\n",
        "plt.xlabel('Metric')\n",
        "plt.ylabel('Value')\n",
        "plt.grid(axis='y', linestyle='--', alpha=0.7)\n",
        "plt.show()\n",
        "\n",
        "# Confusion matrix\n",
        "conf_matrix = confusion_matrix(y_test, y_pred)\n",
        "\n",
        "# Visualize confusion matrix\n",
        "plt.figure(figsize=(8, 6))\n",
        "sns.heatmap(conf_matrix, annot=True, fmt='d', cmap='Blues', xticklabels=['Not Spam', 'Spam'], yticklabels=['Not Spam', 'Spam'])\n",
        "plt.ylabel('Actual')\n",
        "plt.xlabel('Predicted')\n",
        "plt.title('Confusion Matrix')\n",
        "plt.show()\n",
        "\n",
        "# Visualize label distribution\n",
        "plt.figure(figsize=(8, 5))\n",
        "sns.countplot(x='labels', data=df)\n",
        "plt.xticks([0, 1], ['Not Spam', 'Spam'])\n",
        "plt.title('Label Distribution')\n",
        "plt.ylabel('Count')\n",
        "plt.xlabel('Label')\n",
        "plt.grid(axis='y', linestyle='--', alpha=0.7)\n",
        "plt.show()\n",
        "\n",
        "# Visualize predicted vs actual labels\n",
        "plt.figure(figsize=(8, 6))\n",
        "sns.countplot(x='predicted', data=pd.DataFrame({'predicted': y_pred, 'actual': y_test}))\n",
        "plt.xticks([0, 1], ['Not Spam', 'Spam'])\n",
        "plt.title('Predicted vs Actual Labels')\n",
        "plt.ylabel('Count')\n",
        "plt.xlabel('Label')\n",
        "plt.grid(axis='y', linestyle='--', alpha=0.7)\n",
        "plt.show()\n",
        "\n",
        "# Classify a new message\n",
        "new_text = \"Win a free iPhone now!\"\n",
        "new_prediction = best_model.predict([new_text])\n",
        "print(f\"{new_text} is classified as {'Spam' if new_prediction[0] == 1 else 'Not Spam'}\")"
      ]
    },
    {
      "cell_type": "markdown",
      "source": [
        "# Topic Modeling"
      ],
      "metadata": {
        "id": "tdcQgpx_gwgf"
      },
      "id": "tdcQgpx_gwgf"
    },
    {
      "cell_type": "code",
      "source": [
        "import re\n",
        "import nltk\n",
        "from gensim import corpora\n",
        "from gensim.models import LdaModel\n",
        "from nltk.corpus import stopwords\n",
        "import pandas as pd\n",
        "import matplotlib.pyplot as plt\n",
        "\n",
        "# Download stopwords if not already downloaded\n",
        "nltk.download('stopwords', quiet=True)\n",
        "\n",
        "# Sample documents\n",
        "documents = [\n",
        "    \"Natural Language Processing with Python is fun.\",\n",
        "    \"LDA is used for topic modeling.\",\n",
        "    \"Gensim is a library for topic modeling.\",\n",
        "    \"Python is great for machine learning.\",\n",
        "    \"Text analysis can reveal hidden patterns.\"\n",
        "]\n",
        "\n",
        "# Preprocess the text: lowercase, remove non-alphabetic characters, and stopwords\n",
        "stop_words = set(stopwords.words('english'))\n",
        "processed_docs = [\n",
        "    [word for word in re.sub(r'\\W', ' ', doc).lower().split() if word not in stop_words]\n",
        "    for doc in documents\n",
        "]\n",
        "\n",
        "# Create dictionary and corpus for LDA\n",
        "dictionary = corpora.Dictionary(processed_docs)\n",
        "corpus = [dictionary.doc2bow(doc) for doc in processed_docs]\n",
        "\n",
        "# Apply LDA model to find topics\n",
        "num_topics = 2\n",
        "lda_model = LdaModel(corpus, id2word=dictionary, num_topics=num_topics, passes=10)\n",
        "\n",
        "# Print the topics with the top words\n",
        "print(\"\\n--- LDA Topic Modeling Results ---\")\n",
        "for idx, topic in lda_model.print_topics(num_words=4):\n",
        "    print(f\"Topic {idx + 1}: {topic}\")\n",
        "\n",
        "# Prepare data for visualization\n",
        "topic_words = []\n",
        "for idx, topic in lda_model.print_topics(num_words=4):\n",
        "    words = topic.split('\"')\n",
        "    words_list = [words[i].strip() for i in range(len(words)) if i % 2 == 1]\n",
        "    topic_words.append(words_list)\n",
        "\n",
        "# Create a DataFrame for better visualization\n",
        "topics_df = pd.DataFrame(topic_words, columns=['Word 1', 'Word 2', 'Word 3', 'Word 4'])\n",
        "topics_df.index = [f'Topic {i + 1}' for i in range(len(topics_df))]\n",
        "\n",
        "# Print DataFrame of topics\n",
        "print(\"\\n--- Topics Overview ---\")\n",
        "print(topics_df)\n",
        "\n",
        "# Create a count of words for visualization\n",
        "word_count = pd.Series([word for words in topic_words for word in words]).value_counts()\n",
        "\n",
        "# Visualize the top words using a bar chart\n",
        "plt.figure(figsize=(10, 5))\n",
        "word_count.head(10).plot(kind='bar', color='skyblue')\n",
        "plt.title('Top Words in LDA Topics')\n",
        "plt.xlabel('Words')\n",
        "plt.ylabel('Count')\n",
        "plt.xticks(rotation=45)\n",
        "plt.grid(axis='y', linestyle='--', alpha=0.7)\n",
        "plt.tight_layout()\n",
        "plt.show()"
      ],
      "metadata": {
        "colab": {
          "base_uri": "https://localhost:8080/",
          "height": 673
        },
        "id": "yrRfgxRZgtlo",
        "outputId": "091a6bf6-2502-4ed8-845d-2c973fc40e46"
      },
      "id": "yrRfgxRZgtlo",
      "execution_count": 44,
      "outputs": [
        {
          "output_type": "stream",
          "name": "stdout",
          "text": [
            "\n",
            "--- LDA Topic Modeling Results ---\n",
            "Topic 1: 0.102*\"analysis\" + 0.102*\"text\" + 0.102*\"patterns\" + 0.102*\"reveal\"\n",
            "Topic 2: 0.094*\"python\" + 0.094*\"modeling\" + 0.094*\"topic\" + 0.057*\"natural\"\n",
            "\n",
            "--- Topics Overview ---\n",
            "           Word 1    Word 2    Word 3   Word 4\n",
            "Topic 1  analysis      text  patterns   reveal\n",
            "Topic 2    python  modeling     topic  natural\n"
          ]
        },
        {
          "output_type": "display_data",
          "data": {
            "text/plain": [
              "<Figure size 1000x500 with 1 Axes>"
            ],
            "image/png": "[encoded data removed]"
          },
          "metadata": {}
        }
      ]
    },
    {
      "cell_type": "code",
      "source": [
        "import re\n",
        "import nltk\n",
        "from gensim import corpora\n",
        "from gensim.models import LdaModel\n",
        "from nltk.corpus import stopwords\n",
        "import pandas as pd\n",
        "import matplotlib.pyplot as plt\n",
        "\n",
        "# Download stopwords if not already downloaded\n",
        "nltk.download('stopwords', quiet=True)\n",
        "\n",
        "# Sample documents\n",
        "documents = [\n",
        "    \"Artificial Intelligence is transforming the world.\",\n",
        "    \"Deep learning techniques are being widely adopted.\",\n",
        "    \"Natural Language Processing enables machines to understand human language.\",\n",
        "    \"Machine learning can analyze vast amounts of data.\",\n",
        "    \"Computer vision is a key area of research in AI.\",\n",
        "    \"Robotics and automation are changing industries.\",\n",
        "    \"Data science is crucial for business insights.\",\n",
        "    \"AI ethics is becoming increasingly important.\",\n",
        "    \"Self-driving cars are a major innovation.\",\n",
        "    \"Healthcare is being revolutionized by AI technologies.\"\n",
        "]\n",
        "\n",
        "# Preprocess the text: lowercase, remove non-alphabetic characters, and stopwords\n",
        "stop_words = set(stopwords.words('english'))\n",
        "processed_docs = [\n",
        "    [word for word in re.sub(r'\\W', ' ', doc).lower().split() if word not in stop_words]\n",
        "    for doc in documents\n",
        "]\n",
        "\n",
        "# Create dictionary and corpus for LDA\n",
        "dictionary = corpora.Dictionary(processed_docs)\n",
        "corpus = [dictionary.doc2bow(doc) for doc in processed_docs]\n",
        "\n",
        "# Apply LDA model to find topics\n",
        "num_topics = 2\n",
        "lda_model = LdaModel(corpus, id2word=dictionary, num_topics=num_topics, passes=10)\n",
        "\n",
        "# Print the topics with the top words\n",
        "print(\"\\n--- LDA Topic Modeling Results ---\")\n",
        "for idx, topic in lda_model.print_topics(num_words=4):\n",
        "    print(f\"Topic {idx + 1}: {topic}\")\n",
        "\n",
        "# Prepare data for visualization\n",
        "topic_words = []\n",
        "for idx, topic in lda_model.print_topics(num_words=4):\n",
        "    words = topic.split('\"')\n",
        "    words_list = [words[i].strip() for i in range(len(words)) if i % 2 == 1]\n",
        "    topic_words.append(words_list)\n",
        "\n",
        "# Create a DataFrame for better visualization\n",
        "topics_df = pd.DataFrame(topic_words, columns=['Word 1', 'Word 2', 'Word 3', 'Word 4'])\n",
        "topics_df.index = [f'Topic {i + 1}' for i in range(len(topics_df))]\n",
        "\n",
        "# Print DataFrame of topics\n",
        "print(\"\\n--- Topics Overview ---\")\n",
        "print(topics_df)\n",
        "\n",
        "# Create a count of words for visualization\n",
        "word_count = pd.Series([word for words in topic_words for word in words]).value_counts()\n",
        "\n",
        "# Select the top words for the pie chart\n",
        "top_words = word_count.head(10)\n",
        "\n",
        "# Visualize the top words using a pie chart\n",
        "plt.figure(figsize=(10, 8))\n",
        "plt.pie(top_words, labels=top_words.index, autopct='%1.1f%%', startangle=140, colors=plt.cm.Paired.colors)\n",
        "plt.title('Top Words in LDA Topics')\n",
        "plt.axis('equal')  # Equal aspect ratio ensures that pie chart is circular.\n",
        "plt.show()"
      ],
      "metadata": {
        "colab": {
          "base_uri": "https://localhost:8080/",
          "height": 841
        },
        "id": "e-NnQE7gjG03",
        "outputId": "caf174c0-cc55-449d-da8e-e509a61798b4"
      },
      "id": "e-NnQE7gjG03",
      "execution_count": 46,
      "outputs": [
        {
          "output_type": "stream",
          "name": "stdout",
          "text": [
            "\n",
            "--- LDA Topic Modeling Results ---\n",
            "Topic 1: 0.073*\"ai\" + 0.031*\"research\" + 0.031*\"key\" + 0.031*\"vision\"\n",
            "Topic 2: 0.048*\"language\" + 0.048*\"data\" + 0.048*\"learning\" + 0.029*\"understand\"\n",
            "\n",
            "--- Topics Overview ---\n",
            "           Word 1    Word 2    Word 3      Word 4\n",
            "Topic 1        ai  research       key      vision\n",
            "Topic 2  language      data  learning  understand\n"
          ]
        },
        {
          "output_type": "display_data",
          "data": {
            "text/plain": [
              "<Figure size 1000x800 with 1 Axes>"
            ],
            "image/png": "[encoded data removed]"
          },
          "metadata": {}
        }
      ]
    },
    {
      "cell_type": "code",
      "source": [
        "import re\n",
        "import nltk\n",
        "from gensim import corpora\n",
        "from gensim.models import LdaModel\n",
        "from nltk.corpus import stopwords\n",
        "import pandas as pd\n",
        "import matplotlib.pyplot as plt\n",
        "\n",
        "# Download stopwords if not already downloaded\n",
        "nltk.download('stopwords', quiet=True)\n",
        "\n",
        "# Sample documents\n",
        "documents = [\n",
        "    \"Artificial Intelligence is transforming the world of technology and business.\",\n",
        "    \"Deep learning techniques are being widely adopted in various fields.\",\n",
        "    \"Natural Language Processing enables machines to understand and generate human language.\",\n",
        "    \"Machine learning can analyze vast amounts of structured and unstructured data.\",\n",
        "    \"Computer vision is a key area of research in AI, helping machines to see.\",\n",
        "    \"Robotics and automation are changing industries, leading to more efficient processes.\",\n",
        "    \"Data science is crucial for business insights and decision making.\",\n",
        "    \"AI ethics is becoming increasingly important as technology evolves.\",\n",
        "    \"Self-driving cars represent a major innovation in transportation technology.\",\n",
        "    \"Healthcare is being revolutionized by AI technologies, improving patient care.\",\n",
        "    \"Cybersecurity is critical in protecting data and systems from attacks.\",\n",
        "    \"The Internet of Things connects everyday devices, enhancing connectivity.\",\n",
        "    \"Blockchain technology is changing how transactions are recorded and secured.\",\n",
        "    \"Augmented Reality is transforming user experiences in various applications.\",\n",
        "    \"Smart cities are using AI to improve urban living and sustainability.\",\n",
        "    \"The impact of AI on the workforce is a hot topic of discussion.\",\n",
        "    \"Natural language generation allows machines to write human-like text.\"\n",
        "]\n",
        "\n",
        "# Preprocess the text: lowercase, remove non-alphabetic characters, and stopwords\n",
        "stop_words = set(stopwords.words('english'))\n",
        "processed_docs = [\n",
        "    [word for word in re.sub(r'\\W', ' ', doc).lower().split() if word not in stop_words]\n",
        "    for doc in documents\n",
        "]\n",
        "\n",
        "# Create dictionary and corpus for LDA\n",
        "dictionary = corpora.Dictionary(processed_docs)\n",
        "corpus = [dictionary.doc2bow(doc) for doc in processed_docs]\n",
        "\n",
        "# Apply LDA model to find topics\n",
        "num_topics = 3  # Increased number of topics for better differentiation\n",
        "lda_model = LdaModel(corpus, id2word=dictionary, num_topics=num_topics, passes=10)\n",
        "\n",
        "# Print the topics with the top words\n",
        "print(\"\\n--- LDA Topic Modeling Results ---\")\n",
        "for idx, topic in lda_model.print_topics(num_words=4):\n",
        "    print(f\"Topic {idx + 1}: {topic}\")\n",
        "\n",
        "# Prepare data for visualization\n",
        "topic_words = []\n",
        "for idx, topic in lda_model.print_topics(num_words=4):\n",
        "    words = topic.split('\"')\n",
        "    words_list = [words[i].strip() for i in range(len(words)) if i % 2 == 1]\n",
        "    topic_words.append(words_list)\n",
        "\n",
        "# Create a DataFrame for better visualization\n",
        "topics_df = pd.DataFrame(topic_words, columns=['Word 1', 'Word 2', 'Word 3', 'Word 4'])\n",
        "topics_df.index = [f'Topic {i + 1}' for i in range(len(topics_df))]\n",
        "\n",
        "# Print DataFrame of topics\n",
        "print(\"\\n--- Topics Overview ---\")\n",
        "print(topics_df)\n",
        "\n",
        "# Create a count of words for visualization\n",
        "word_count = pd.Series([word for words in topic_words for word in words]).value_counts()\n",
        "\n",
        "# Select the top words for the pie chart\n",
        "top_words = word_count.head(10)\n",
        "\n",
        "# Visualize the top words using a pie chart\n",
        "plt.figure(figsize=(10, 8))\n",
        "plt.pie(top_words, labels=top_words.index, autopct='%1.1f%%', startangle=140, colors=plt.cm.Paired.colors)\n",
        "plt.title('Top Words in LDA Topics')\n",
        "plt.axis('equal')  # Equal aspect ratio ensures that pie chart is circular.\n",
        "plt.show()"
      ],
      "metadata": {
        "colab": {
          "base_uri": "https://localhost:8080/",
          "height": 884
        },
        "id": "BlEl_R7tjqW3",
        "outputId": "8438c305-4553-40fa-8296-08a877b4095c"
      },
      "id": "BlEl_R7tjqW3",
      "execution_count": 47,
      "outputs": [
        {
          "output_type": "stream",
          "name": "stdout",
          "text": [
            "\n",
            "--- LDA Topic Modeling Results ---\n",
            "Topic 1: 0.062*\"ai\" + 0.016*\"machines\" + 0.016*\"key\" + 0.016*\"area\"\n",
            "Topic 2: 0.036*\"data\" + 0.036*\"language\" + 0.021*\"learning\" + 0.021*\"various\"\n",
            "Topic 3: 0.043*\"technology\" + 0.030*\"changing\" + 0.017*\"cars\" + 0.017*\"transportation\"\n",
            "\n",
            "--- Topics Overview ---\n",
            "             Word 1    Word 2    Word 3          Word 4\n",
            "Topic 1          ai  machines       key            area\n",
            "Topic 2        data  language  learning         various\n",
            "Topic 3  technology  changing      cars  transportation\n"
          ]
        },
        {
          "output_type": "display_data",
          "data": {
            "text/plain": [
              "<Figure size 1000x800 with 1 Axes>"
            ],
            "image/png": "[encoded data removed]"
          },
          "metadata": {}
        }
      ]
    },
    {
      "cell_type": "markdown",
      "source": [
        "# Chatbot"
      ],
      "metadata": {
        "id": "gpbnF_bNl_5m"
      },
      "id": "gpbnF_bNl_5m"
    },
    {
      "cell_type": "code",
      "execution_count": 58,
      "id": "e7e000c4",
      "metadata": {
        "colab": {
          "base_uri": "https://localhost:8080/"
        },
        "id": "e7e000c4",
        "outputId": "c0024f7c-825b-4e77-e9a3-ec3f0781911b"
      },
      "outputs": [
        {
          "output_type": "stream",
          "name": "stdout",
          "text": [
            "Gemini Chatbot: Dual conversations, double the fun! Type 'quit' or 'stop' to exit.\n",
            ">quit\n",
            "Okay, stopping the chat. Come back anytime!\n"
          ]
        }
      ],
      "source": [
        "from nltk.chat.util import Chat, reflections\n",
        "\n",
        "# Define conversation pairs for a Gemini-themed chatbot\n",
        "pairs = [\n",
        "    [\n",
        "        r\"hi|hello|hey\",\n",
        "        [\"Hello there, both sides of me greet you!\", \"Hi! I can be both serious and fun—what can I do for you today?\",]\n",
        "    ],\n",
        "    [\n",
        "        r\"what is your name?\",\n",
        "        [\"I am Gemini, two voices in one! You can call me ChatGem.\", \"I'm Gemini—double the insight! What do you need?\"]\n",
        "    ],\n",
        "    [\n",
        "        r\"how are you?\",\n",
        "        [\"I'm feeling curious and playful—two sides of me are always in motion.\", \"Both of me are doing well! What about you?\"]\n",
        "    ],\n",
        "    [\n",
        "        r\"bye|goodbye\",\n",
        "        [\"Goodbye from both halves of me! Take care!\", \"See you soon! One part of me says bye, the other says 'come back!'\"]\n",
        "    ],\n",
        "    [\n",
        "        r\"quit|stop\",\n",
        "        [\"Okay, stopping the chat. Come back anytime!\", \"Goodbye! Both sides of me say take care!\"]\n",
        "    ]\n",
        "]\n",
        "\n",
        "# Initialize the chatbot\n",
        "chatbot = Chat(pairs, reflections)\n",
        "\n",
        "# Start the conversation\n",
        "if __name__ == \"__main__\":\n",
        "    print(\"Gemini Chatbot: Dual conversations, double the fun! Type 'quit' or 'stop' to exit.\")\n",
        "    chatbot.converse()"
      ]
    },
    {
      "cell_type": "markdown",
      "source": [
        "# Summarization"
      ],
      "metadata": {
        "id": "UdZbC8JlnYZD"
      },
      "id": "UdZbC8JlnYZD"
    },
    {
      "cell_type": "code",
      "source": [
        "# Importing necessary libraries\n",
        "import spacy\n",
        "import numpy as np\n",
        "import pandas as pd\n",
        "import matplotlib.pyplot as plt\n",
        "from sklearn.feature_extraction.text import TfidfVectorizer\n",
        "from sklearn.metrics.pairwise import cosine_similarity\n",
        "\n",
        "# Load the English NLP model from spaCy\n",
        "nlp = spacy.load(\"en_core_web_sm\")\n",
        "\n",
        "# Sample large corpus of text (you can replace it with your own corpus)\n",
        "corpus = [\n",
        "    \"\"\"Artificial intelligence (AI) is intelligence demonstrated by machines,\n",
        "    in contrast to the natural intelligence displayed by humans and animals.\n",
        "    Leading AI textbooks define the field as the study of 'intelligent agents':\n",
        "    any device that perceives its environment and takes actions that maximize\n",
        "    its chance of successfully achieving its goals.\"\"\",\n",
        "\n",
        "    \"\"\"Machine learning is a subset of AI that focuses on the use of data and\n",
        "    algorithms to imitate the way that humans learn, gradually improving its accuracy.\n",
        "    It involves the development of computer programs that can access data and use it\n",
        "    to learn for themselves.\"\"\",\n",
        "\n",
        "    \"\"\"Natural language processing (NLP) is a field of artificial intelligence\n",
        "    that focuses on the interaction between computers and humans through natural language.\n",
        "    The ultimate objective of NLP is to enable computers to understand, interpret,\n",
        "    and generate human languages in a way that is valuable.\"\"\",\n",
        "\n",
        "    \"\"\"Deep learning is a subset of machine learning in AI that has networks\n",
        "    capable of learning from unstructured data. It uses a layered structure\n",
        "    of algorithms called an artificial neural network to carry out the\n",
        "    learning process, enabling the system to improve its performance over time.\"\"\",\n",
        "\n",
        "    \"\"\"Data science combines domain expertise, programming skills, and knowledge\n",
        "    of mathematics and statistics to extract meaningful insights from data.\n",
        "    It involves a set of tools and techniques for analyzing data, making predictions,\n",
        "    and generating reports.\"\"\",\n",
        "]\n",
        "\n",
        "# Create a function for text summarization using the TextRank algorithm\n",
        "def text_summarization(corpus, num_sentences=2):\n",
        "    # Process the corpus using spaCy\n",
        "    doc = nlp(\" \".join(corpus))\n",
        "\n",
        "    # Extract sentences from the document\n",
        "    sentences = [sent.text for sent in doc.sents]\n",
        "\n",
        "    # Create a TF-IDF vectorizer and fit it on the sentences\n",
        "    vectorizer = TfidfVectorizer()\n",
        "    tfidf_matrix = vectorizer.fit_transform(sentences)\n",
        "\n",
        "    # Calculate cosine similarity matrix\n",
        "    cosine_sim = cosine_similarity(tfidf_matrix, tfidf_matrix)\n",
        "\n",
        "    # Rank sentences based on their scores\n",
        "    scores = np.sum(cosine_sim, axis=1)\n",
        "\n",
        "    # Get the indices of the top sentences\n",
        "    ranked_indices = np.argsort(scores, axis=0)[-num_sentences:][::-1]\n",
        "\n",
        "    # Summarize the text\n",
        "    summary = [sentences[i] for i in ranked_indices]\n",
        "\n",
        "    return ' '.join(summary)\n",
        "\n",
        "# Generate the summary\n",
        "summary = text_summarization(corpus, num_sentences=3)\n",
        "\n",
        "# Print the summary\n",
        "print(\"\\n--- Summary ---\")\n",
        "print(summary)\n",
        "\n",
        "# Visualizing Sentence Scores\n",
        "def plot_sentence_scores(sentences, scores):\n",
        "    plt.figure(figsize=(10, 5))\n",
        "    plt.barh(sentences, scores, color='skyblue')\n",
        "    plt.xlabel('Sentence Score')\n",
        "    plt.title('Sentence Scores for Text Summarization')\n",
        "    plt.grid(axis='x', linestyle='--', alpha=0.7)\n",
        "    plt.show()\n",
        "\n",
        "# Calculate and plot scores for the sentences\n",
        "def plot_scores(corpus):\n",
        "    # Process the corpus using spaCy\n",
        "    doc = nlp(\" \".join(corpus))\n",
        "    sentences = [sent.text for sent in doc.sents]\n",
        "\n",
        "    # Create a TF-IDF vectorizer and fit it on the sentences\n",
        "    vectorizer = TfidfVectorizer()\n",
        "    tfidf_matrix = vectorizer.fit_transform(sentences)\n",
        "\n",
        "    # Calculate cosine similarity matrix\n",
        "    cosine_sim = cosine_similarity(tfidf_matrix, tfidf_matrix)\n",
        "\n",
        "    # Rank sentences based on their scores\n",
        "    scores = np.sum(cosine_sim, axis=1)\n",
        "\n",
        "    plot_sentence_scores(sentences, scores)\n",
        "\n",
        "# Call the function to plot scores\n",
        "plot_scores(corpus)\n",
        "\n",
        "# Word Frequency Analysis\n",
        "def plot_word_frequencies(corpus):\n",
        "    # Combine the corpus into one large text\n",
        "    text = ' '.join(corpus)\n",
        "    words = text.split()\n",
        "\n",
        "    # Create a DataFrame to count word frequencies\n",
        "    word_freq = pd.Series(words).value_counts().head(10)\n",
        "\n",
        "    plt.figure(figsize=(10, 5))\n",
        "    word_freq.plot(kind='bar', color='salmon')\n",
        "    plt.title('Top 10 Words in the Corpus')\n",
        "    plt.xlabel('Words')\n",
        "    plt.ylabel('Frequency')\n",
        "    plt.xticks(rotation=45)\n",
        "    plt.grid(axis='y', linestyle='--', alpha=0.7)\n",
        "    plt.show()\n",
        "\n",
        "# Call the function to plot word frequencies\n",
        "plot_word_frequencies(corpus)\n",
        "\n",
        "# Sentence Length Analysis\n",
        "def plot_sentence_length(corpus):\n",
        "    # Process the corpus using spaCy\n",
        "    doc = nlp(\" \".join(corpus))\n",
        "    sentence_lengths = [len(sent.text.split()) for sent in doc.sents]\n",
        "\n",
        "    plt.figure(figsize=(10, 5))\n",
        "    plt.hist(sentence_lengths, bins=range(1, max(sentence_lengths) + 2), color='lightgreen', alpha=0.7)\n",
        "    plt.title('Sentence Length Distribution')\n",
        "    plt.xlabel('Number of Words in Sentences')\n",
        "    plt.ylabel('Frequency')\n",
        "    plt.grid(axis='y', linestyle='--', alpha=0.7)\n",
        "    plt.show()\n",
        "\n",
        "# Call the function to plot sentence lengths\n",
        "plot_sentence_length(corpus)"
      ],
      "metadata": {
        "colab": {
          "base_uri": "https://localhost:8080/",
          "height": 1000
        },
        "id": "8wRcJ6dGmDH9",
        "outputId": "7b1da137-5e4d-42df-b9ef-bf57be587097"
      },
      "id": "8wRcJ6dGmDH9",
      "execution_count": 59,
      "outputs": [
        {
          "output_type": "stream",
          "name": "stdout",
          "text": [
            "\n",
            "--- Summary ---\n",
            "Machine learning is a subset of AI that focuses on the use of data and \n",
            "    algorithms to imitate the way that humans learn, gradually improving its accuracy. \n",
            "     It involves the development of computer programs that can access data and use it \n",
            "    to learn for themselves. Natural language processing (NLP) is a field of artificial intelligence \n",
            "    that focuses on the interaction between computers and humans through natural language. \n",
            "    \n"
          ]
        },
        {
          "output_type": "display_data",
          "data": {
            "text/plain": [
              "<Figure size 1000x500 with 1 Axes>"
            ],
            "image/png": "[encoded data removed]"
          },
          "metadata": {}
        },
        {
          "output_type": "display_data",
          "data": {
            "text/plain": [
              "<Figure size 1000x500 with 1 Axes>"
            ],
            "image/png": "[encoded data removed]"
          },
          "metadata": {}
        },
        {
          "output_type": "display_data",
          "data": {
            "text/plain": [
              "<Figure size 1000x500 with 1 Axes>"
            ],
            "image/png": "[encoded data removed]"
          },
          "metadata": {}
        }
      ]
    },
    {
      "cell_type": "code",
      "source": [],
      "metadata": {
        "id": "EA2fSoLjnW8w"
      },
      "id": "EA2fSoLjnW8w",
      "execution_count": null,
      "outputs": []
    },
    {
      "cell_type": "markdown",
      "source": [
        "# BSC Paper"
      ],
      "metadata": {
        "id": "UMmtL8Xen8V-"
      },
      "id": "UMmtL8Xen8V-"
    },
    {
      "cell_type": "code",
      "source": [
        "\n",
        "# a) Load the provided text file (corpus.txt). Perform basic text preprocessing on the text, which includes:\n",
        "# ⚫ Converting the text to lowercase.\n",
        "# • Tokenization (Splitting the text into words).\n",
        "# • Removing punctuation and special characters.\n",
        "# • Removing stop words (common words such as \"the\",\"and\",\"is\" etc.)\n",
        "# b) Calculate the frequency distribution of words in the pre-processed text and display the top 10 most frequent words along with their frequencies.\n",
        "# lege\n",
        "# c) Create a word cloud from the pre-processed text using the top 50 most frequent words. Display the word cloud.\n",
        "\n",
        "# Step 1: Install required libraries (uncomment if needed)\n",
        "# !pip install nltk wordcloud matplotlib\n",
        "\n",
        "import nltk\n",
        "import string\n",
        "import matplotlib.pyplot as plt\n",
        "from wordcloud import WordCloud\n",
        "from nltk.corpus import stopwords\n",
        "from nltk.tokenize import word_tokenize\n",
        "from collections import Counter\n",
        "\n",
        "# Download NLTK data files\n",
        "nltk.download('punkt', quiet=True)\n",
        "nltk.download('stopwords', quiet=True)\n",
        "\n",
        "# Step 2: Load the text file\n",
        "with open('corpus.txt', 'r', encoding='utf-8') as file:\n",
        "    text = file.read()\n",
        "\n",
        "# Step 3: Basic text preprocessing\n",
        "def preprocess_text(text):\n",
        "    # Convert text to lowercase\n",
        "    text = text.lower()\n",
        "\n",
        "    # Tokenization\n",
        "    tokens = word_tokenize(text)\n",
        "\n",
        "    # Remove punctuation and special characters\n",
        "    tokens = [word for word in tokens if word.isalpha()]\n",
        "\n",
        "    # Remove stop words\n",
        "    stop_words = set(stopwords.words('english'))\n",
        "    tokens = [word for word in tokens if word not in stop_words]\n",
        "\n",
        "    return tokens\n",
        "\n",
        "# Preprocess the text\n",
        "processed_tokens = preprocess_text(text)\n",
        "\n",
        "# Step 4: Calculate frequency distribution of words\n",
        "word_freq = Counter(processed_tokens)\n",
        "\n",
        "# Get the top 10 most frequent words\n",
        "top_10_words = word_freq.most_common(10)\n",
        "\n",
        "# Display the top 10 words and their frequencies\n",
        "print(\"\\n--- Top 10 Most Frequent Words ---\")\n",
        "for word, freq in top_10_words:\n",
        "    print(f\"{word}: {freq}\")\n",
        "\n",
        "# Step 5: Create a word cloud from the top 50 most frequent words\n",
        "top_50_words = dict(word_freq.most_common(50))\n",
        "\n",
        "# Create a word cloud\n",
        "wordcloud = WordCloud(width=800, height=400, background_color='white').generate_from_frequencies(top_50_words)\n",
        "\n",
        "# Display the word cloud\n",
        "plt.figure(figsize=(10, 5))\n",
        "plt.imshow(wordcloud, interpolation='bilinear')\n",
        "plt.axis('off')  # Hide the axes\n",
        "plt.title('Word Cloud of Top 50 Words', fontsize=16)\n",
        "plt.show()"
      ],
      "metadata": {
        "colab": {
          "base_uri": "https://localhost:8080/",
          "height": 222
        },
        "id": "SMARs-O1n9oh",
        "outputId": "5d32ad60-9be0-4d98-8d3f-bd18891eaabb"
      },
      "id": "SMARs-O1n9oh",
      "execution_count": 60,
      "outputs": [
        {
          "output_type": "error",
          "ename": "FileNotFoundError",
          "evalue": "[Errno 2] No such file or directory: 'corpus.txt'",
          "traceback": [
            "\u001b[0;31m---------------------------------------------------------------------------\u001b[0m",
            "\u001b[0;31mFileNotFoundError\u001b[0m                         Traceback (most recent call last)",
            "\u001b[0;32m<ipython-input-60-b8f345423fb5>\u001b[0m in \u001b[0;36m<cell line: 26>\u001b[0;34m()\u001b[0m\n\u001b[1;32m     24\u001b[0m \u001b[0;34m\u001b[0m\u001b[0m\n\u001b[1;32m     25\u001b[0m \u001b[0;31m# Step 2: Load the text file\u001b[0m\u001b[0;34m\u001b[0m\u001b[0;34m\u001b[0m\u001b[0m\n\u001b[0;32m---> 26\u001b[0;31m \u001b[0;32mwith\u001b[0m \u001b[0mopen\u001b[0m\u001b[0;34m(\u001b[0m\u001b[0;34m'corpus.txt'\u001b[0m\u001b[0;34m,\u001b[0m \u001b[0;34m'r'\u001b[0m\u001b[0;34m,\u001b[0m \u001b[0mencoding\u001b[0m\u001b[0;34m=\u001b[0m\u001b[0;34m'utf-8'\u001b[0m\u001b[0;34m)\u001b[0m \u001b[0;32mas\u001b[0m \u001b[0mfile\u001b[0m\u001b[0;34m:\u001b[0m\u001b[0;34m\u001b[0m\u001b[0;34m\u001b[0m\u001b[0m\n\u001b[0m\u001b[1;32m     27\u001b[0m     \u001b[0mtext\u001b[0m \u001b[0;34m=\u001b[0m \u001b[0mfile\u001b[0m\u001b[0;34m.\u001b[0m\u001b[0mread\u001b[0m\u001b[0;34m(\u001b[0m\u001b[0;34m)\u001b[0m\u001b[0;34m\u001b[0m\u001b[0;34m\u001b[0m\u001b[0m\n\u001b[1;32m     28\u001b[0m \u001b[0;34m\u001b[0m\u001b[0m\n",
            "\u001b[0;31mFileNotFoundError\u001b[0m: [Errno 2] No such file or directory: 'corpus.txt'"
          ]
        }
      ]
    },
    {
      "cell_type": "code",
      "source": [
        "# Calculate the cosine similarity between the following three sentences/documents and provide th similarity scores:\n",
        "# \"The weather today is beautiful with clear skies and a gentle breeze.\"\n",
        "# arde\n",
        "# \"I enjoy spending my weekends hiking in the mountains and exploring nature.\" \"Sunny days make for perfect outdoor activities like hiking and picnics.\"\n",
        "\n",
        "from sklearn.feature_extraction.text import TfidfVectorizer\n",
        "from sklearn.metrics.pairwise import cosine_similarity\n",
        "\n",
        "# Define the three sentences/documents\n",
        "documents = [\n",
        "    \"The weather today is beautiful with clear skies and a gentle breeze.\",\n",
        "    \"I enjoy spending my weekends hiking in the mountains and exploring nature.\",\n",
        "    \"Sunny days make for perfect outdoor activities like hiking and picnics.\"\n",
        "]\n",
        "\n",
        "# Create the TfidfVectorizer and compute the TF-IDF matrix\n",
        "vectorizer = TfidfVectorizer()\n",
        "tfidf_matrix = vectorizer.fit_transform(documents)\n",
        "\n",
        "# Calculate cosine similarity between the documents\n",
        "cosine_sim = cosine_similarity(tfidf_matrix, tfidf_matrix)\n",
        "\n",
        "# Extract the similarity scores\n",
        "score_1_2 = cosine_sim[0][1]  # Similarity between document 1 and document 2\n",
        "score_1_3 = cosine_sim[0][2]  # Similarity between document 1 and document 3\n",
        "score_2_3 = cosine_sim[1][2]  # Similarity between document 2 and document 3\n",
        "\n",
        "# Print the scores\n",
        "print(f\"Cosine similarity between document 1 and document 2: {score_1_2:.4f}\")\n",
        "print(f\"Cosine similarity between document 1 and document 3: {score_1_3:.4f}\")\n",
        "print(f\"Cosine similarity between document 2 and document 3: {score_2_3:.4f}\")\n"
      ],
      "metadata": {
        "colab": {
          "base_uri": "https://localhost:8080/"
        },
        "id": "8dANze_joQqJ",
        "outputId": "794f1f2b-88bc-4548-83d3-36734b0481a5"
      },
      "id": "8dANze_joQqJ",
      "execution_count": 61,
      "outputs": [
        {
          "output_type": "stream",
          "name": "stdout",
          "text": [
            "Cosine similarity between document 1 and document 2: 0.0955\n",
            "Cosine similarity between document 1 and document 3: 0.0351\n",
            "Cosine similarity between document 2 and document 3: 0.0955\n"
          ]
        }
      ]
    },
    {
      "cell_type": "code",
      "source": [
        "\n",
        "# Q3) Perform Sentiment Analysis for the given corpus (15 marks)\n",
        "# Sentiment Analysis on Text File using VADER\n",
        "# This script performs sentiment analysis on sentences from a text file (corpus.txt).\n",
        "# It calculates sentiment scores (negative, neutral, positive, and compound) for each sentence\n",
        "# and visualizes the results using bar charts and pie charts.\n",
        "\n",
        "# Import necessary libraries\n",
        "import nltk\n",
        "from nltk.sentiment.vader import SentimentIntensityAnalyzer\n",
        "import pandas as pd\n",
        "import matplotlib.pyplot as plt\n",
        "\n",
        "# Download the VADER lexicon (if not already downloaded)\n",
        "nltk.download('vader_lexicon')\n",
        "\n",
        "# Load the text file (corpus.txt)\n",
        "with open('corpus.txt', 'r', encoding='utf-8') as file:\n",
        "    corpus = file.readlines()  # Read lines from the file\n",
        "\n",
        "# Remove leading/trailing whitespace characters from each line\n",
        "corpus = [line.strip() for line in corpus if line.strip()]  # Clean up the list\n",
        "\n",
        "# Initialize the VADER sentiment intensity analyzer\n",
        "sia = SentimentIntensityAnalyzer()\n",
        "\n",
        "# Create a list to store results\n",
        "results = []\n",
        "\n",
        "# Perform sentiment analysis on each sentence in the corpus\n",
        "for sentence in corpus:\n",
        "    # Get the sentiment scores for the current sentence\n",
        "    score = sia.polarity_scores(sentence)\n",
        "    # Append the sentence and its corresponding scores to the results list\n",
        "    results.append({\n",
        "        'Sentence': sentence,\n",
        "        'Negative': score['neg'],\n",
        "        'Neutral': score['neu'],\n",
        "        'Positive': score['pos'],\n",
        "        'Compound': score['compound']\n",
        "    })\n",
        "\n",
        "# Convert the results list into a pandas DataFrame for better manipulation\n",
        "results_df = pd.DataFrame(results)\n",
        "\n",
        "# Print the DataFrame to see the sentiment analysis results\n",
        "print(\"\\n--- Sentiment Analysis Results ---\")\n",
        "print(results_df)\n",
        "\n",
        "# Visualizing the sentiment scores using bar plots\n",
        "\n",
        "# Set the index for the DataFrame to the sentences for better visualization\n",
        "results_df.set_index('Sentence', inplace=True)\n",
        "\n",
        "# Plotting the results: Negative, Neutral, and Positive scores\n",
        "plt.figure(figsize=(12, 6))\n",
        "results_df[['Negative', 'Neutral', 'Positive']].plot(kind='bar', stacked=True)\n",
        "\n",
        "# Add title and labels to the plot\n",
        "plt.title('Sentiment Analysis Results by Sentence')\n",
        "plt.xlabel('Sentences')\n",
        "plt.ylabel('Scores')\n",
        "plt.xticks(rotation=45, ha='right')\n",
        "\n",
        "# Add a legend to the plot\n",
        "plt.legend(title='Sentiment')\n",
        "\n",
        "# Adjust layout for a clean display\n",
        "plt.tight_layout()\n",
        "\n",
        "# Show the bar plot\n",
        "plt.show()\n",
        "\n",
        "# Pie chart for overall sentiment distribution\n",
        "# Sum the scores for overall visualization\n",
        "total_sentiments = results_df[['Negative', 'Neutral', 'Positive']].sum()\n",
        "\n",
        "# Plot pie chart\n",
        "plt.figure(figsize=(8, 8))\n",
        "plt.pie(total_sentiments, labels=total_sentiments.index, autopct='%1.1f%%', startangle=140, colors=plt.cm.Paired.colors)\n",
        "plt.title('Overall Sentiment Distribution')\n",
        "plt.axis('equal')  # Equal aspect ratio ensures that pie chart is circular\n",
        "plt.show()\n"
      ],
      "metadata": {
        "colab": {
          "base_uri": "https://localhost:8080/",
          "height": 240
        },
        "id": "zlOVDF5sojWP",
        "outputId": "0e696fa8-f1d5-4361-ab36-1f9bc842f169"
      },
      "id": "zlOVDF5sojWP",
      "execution_count": 62,
      "outputs": [
        {
          "output_type": "stream",
          "name": "stderr",
          "text": [
            "[nltk_data] Downloading package vader_lexicon to /root/nltk_data...\n"
          ]
        },
        {
          "output_type": "error",
          "ename": "FileNotFoundError",
          "evalue": "[Errno 2] No such file or directory: 'corpus.txt'",
          "traceback": [
            "\u001b[0;31m---------------------------------------------------------------------------\u001b[0m",
            "\u001b[0;31mFileNotFoundError\u001b[0m                         Traceback (most recent call last)",
            "\u001b[0;32m<ipython-input-62-4b25e5ed9952>\u001b[0m in \u001b[0;36m<cell line: 17>\u001b[0;34m()\u001b[0m\n\u001b[1;32m     15\u001b[0m \u001b[0;34m\u001b[0m\u001b[0m\n\u001b[1;32m     16\u001b[0m \u001b[0;31m# Load the text file (corpus.txt)\u001b[0m\u001b[0;34m\u001b[0m\u001b[0;34m\u001b[0m\u001b[0m\n\u001b[0;32m---> 17\u001b[0;31m \u001b[0;32mwith\u001b[0m \u001b[0mopen\u001b[0m\u001b[0;34m(\u001b[0m\u001b[0;34m'corpus.txt'\u001b[0m\u001b[0;34m,\u001b[0m \u001b[0;34m'r'\u001b[0m\u001b[0;34m,\u001b[0m \u001b[0mencoding\u001b[0m\u001b[0;34m=\u001b[0m\u001b[0;34m'utf-8'\u001b[0m\u001b[0;34m)\u001b[0m \u001b[0;32mas\u001b[0m \u001b[0mfile\u001b[0m\u001b[0;34m:\u001b[0m\u001b[0;34m\u001b[0m\u001b[0;34m\u001b[0m\u001b[0m\n\u001b[0m\u001b[1;32m     18\u001b[0m     \u001b[0mcorpus\u001b[0m \u001b[0;34m=\u001b[0m \u001b[0mfile\u001b[0m\u001b[0;34m.\u001b[0m\u001b[0mreadlines\u001b[0m\u001b[0;34m(\u001b[0m\u001b[0;34m)\u001b[0m  \u001b[0;31m# Read lines from the file\u001b[0m\u001b[0;34m\u001b[0m\u001b[0;34m\u001b[0m\u001b[0m\n\u001b[1;32m     19\u001b[0m \u001b[0;34m\u001b[0m\u001b[0m\n",
            "\u001b[0;31mFileNotFoundError\u001b[0m: [Errno 2] No such file or directory: 'corpus.txt'"
          ]
        }
      ]
    },
    {
      "cell_type": "code",
      "source": [
        "# Import necessary libraries\n",
        "import re\n",
        "import nltk\n",
        "import pandas as pd\n",
        "import matplotlib.pyplot as plt\n",
        "from nltk.stem import PorterStemmer\n",
        "from emoji import UNICODE_EMOJI_ENGLISH, emojize\n",
        "\n",
        "# Download the necessary NLTK resources\n",
        "nltk.download('punkt')\n",
        "\n",
        "# Initialize the stemmer\n",
        "stemmer = PorterStemmer()\n",
        "\n",
        "# Function to replace \"Python\" with \"I love Python programming!\"\n",
        "def replace_python(sentences):\n",
        "    return [sentence.replace(\"Python\", \"I love Python programming!\") for sentence in sentences]\n",
        "\n",
        "# Function to remove emojis from sentences\n",
        "def remove_emojis(sentences):\n",
        "    emoji_pattern = re.compile(\"[\"\n",
        "        u\"\\U0001F600-\\U0001F64F\"  # emoticons\n",
        "        u\"\\U0001F300-\\U0001F5FF\"  # symbols & pictographs\n",
        "        u\"\\U0001F680-\\U0001F6FF\"  # transport & map symbols\n",
        "        u\"\\U0001F700-\\U0001F77F\"  # alchemical symbols\n",
        "        u\"\\U0001F780-\\U0001F7FF\"  # Geometric Shapes Extended\n",
        "        u\"\\U0001F800-\\U0001F8FF\"  # Supplemental Arrows-C\n",
        "        u\"\\U0001F900-\\U0001F9FF\"  # Supplemental Symbols and Pictographs\n",
        "        u\"\\U0001FA00-\\U0001FA6F\"  # Chess Symbols\n",
        "        u\"\\U00002702-\\U000027B0\"  # Dingbats\n",
        "        \"]+\", flags=re.UNICODE)\n",
        "\n",
        "    return [emoji_pattern.sub(r'', sentence) for sentence in sentences]\n",
        "\n",
        "# Function to perform stemming on sentences\n",
        "def stem_sentences(sentences):\n",
        "    stemmed_sentences = []\n",
        "    for sentence in sentences:\n",
        "        words = nltk.word_tokenize(sentence)\n",
        "        stemmed_words = [stemmer.stem(word) for word in words]\n",
        "        stemmed_sentences.append(' '.join(stemmed_words))\n",
        "    return stemmed_sentences\n",
        "\n",
        "# Load sentences from the text file\n",
        "with open('q4-sentences.txt', 'r', encoding='utf-8') as file:\n",
        "    sentences = [line.strip() for line in file if line.strip()]\n",
        "\n",
        "# a) Replace \"Python\" with \"I love Python programming!\"\n",
        "replaced_sentences = replace_python(sentences)\n",
        "\n",
        "# b) Remove emojis from the sentence\n",
        "emoji_removed_sentences = remove_emojis(sentences)\n",
        "\n",
        "# c) Perform stemming on the original sentences\n",
        "stemmed_sentences = stem_sentences(sentences)\n",
        "\n",
        "# Create DataFrame to store original, replaced, and stemmed sentences\n",
        "df = pd.DataFrame({\n",
        "    'Original': sentences,\n",
        "    'Replaced': replaced_sentences,\n",
        "    'Emoji Removed': emoji_removed_sentences,\n",
        "    'Stemmed': stemmed_sentences\n",
        "})\n",
        "\n",
        "# Print the DataFrame to see the results\n",
        "print(\"\\n--- Sentences Overview ---\")\n",
        "print(df)\n",
        "\n",
        "# Visualization of word frequencies before and after stemming\n",
        "# Count word frequencies before stemming\n",
        "original_words = ' '.join(sentences).split()\n",
        "original_freq = pd.Series(original_words).value_counts()\n",
        "\n",
        "# Count word frequencies after stemming\n",
        "stemmed_words = ' '.join(stemmed_sentences).split()\n",
        "stemmed_freq = pd.Series(stemmed_words).value_counts()\n",
        "\n",
        "# Plotting the word frequency distribution\n",
        "plt.figure(figsize=(12, 6))\n",
        "plt.subplot(1, 2, 1)\n",
        "original_freq.head(20).plot(kind='bar', color='lightblue')\n",
        "plt.title('Top 20 Words Frequency (Original)')\n",
        "plt.xlabel('Words')\n",
        "plt.ylabel('Frequency')\n",
        "plt.xticks(rotation=45)\n",
        "\n",
        "plt.subplot(1, 2, 2)\n",
        "stemmed_freq.head(20).plot(kind='bar', color='lightgreen')\n",
        "plt.title('Top 20 Words Frequency (Stemmed)')\n",
        "plt.xlabel('Words')\n",
        "plt.ylabel('Frequency')\n",
        "plt.xticks(rotation=45)\n",
        "\n",
        "plt.tight_layout()\n",
        "plt.show()\n",
        "\n",
        "# Visualize the first few sentences after processing\n",
        "fig, axes = plt.subplots(nrows=4, ncols=1, figsize=(10, 12))\n",
        "axes[0].set_title('Original Sentences')\n",
        "axes[0].barh(df.index, df['Original'].str.len(), color='lightblue')\n",
        "axes[1].set_title('Replaced Sentences')\n",
        "axes[1].barh(df.index, df['Replaced'].str.len(), color='salmon')\n",
        "axes[2].set_title('Emoji Removed Sentences')\n",
        "axes[2].barh(df.index, df['Emoji Removed'].str.len(), color='lightgreen')\n",
        "axes[3].set_title('Stemmed Sentences')\n",
        "axes[3].barh(df.index, df['Stemmed'].str.len(), color='orange')\n",
        "\n",
        "for ax in axes:\n",
        "    ax.set_xlabel('Length of Sentence')\n",
        "    ax.set_yticks(df.index)\n",
        "    ax.set_yticklabels(df['Original'].values, rotation=0)\n",
        "\n",
        "plt.tight_layout()\n",
        "plt.show()"
      ],
      "metadata": {
        "colab": {
          "base_uri": "https://localhost:8080/",
          "height": 403
        },
        "id": "CSSY7GDapVcA",
        "outputId": "c95b0227-2c68-4e26-d63e-a564ccd32460"
      },
      "id": "CSSY7GDapVcA",
      "execution_count": 63,
      "outputs": [
        {
          "output_type": "error",
          "ename": "ImportError",
          "evalue": "cannot import name 'UNICODE_EMOJI_ENGLISH' from 'emoji' (/usr/local/lib/python3.10/dist-packages/emoji/__init__.py)",
          "traceback": [
            "\u001b[0;31m---------------------------------------------------------------------------\u001b[0m",
            "\u001b[0;31mImportError\u001b[0m                               Traceback (most recent call last)",
            "\u001b[0;32m<ipython-input-63-990dd1069826>\u001b[0m in \u001b[0;36m<cell line: 7>\u001b[0;34m()\u001b[0m\n\u001b[1;32m      5\u001b[0m \u001b[0;32mimport\u001b[0m \u001b[0mmatplotlib\u001b[0m\u001b[0;34m.\u001b[0m\u001b[0mpyplot\u001b[0m \u001b[0;32mas\u001b[0m \u001b[0mplt\u001b[0m\u001b[0;34m\u001b[0m\u001b[0;34m\u001b[0m\u001b[0m\n\u001b[1;32m      6\u001b[0m \u001b[0;32mfrom\u001b[0m \u001b[0mnltk\u001b[0m\u001b[0;34m.\u001b[0m\u001b[0mstem\u001b[0m \u001b[0;32mimport\u001b[0m \u001b[0mPorterStemmer\u001b[0m\u001b[0;34m\u001b[0m\u001b[0;34m\u001b[0m\u001b[0m\n\u001b[0;32m----> 7\u001b[0;31m \u001b[0;32mfrom\u001b[0m \u001b[0memoji\u001b[0m \u001b[0;32mimport\u001b[0m \u001b[0mUNICODE_EMOJI_ENGLISH\u001b[0m\u001b[0;34m,\u001b[0m \u001b[0memojize\u001b[0m\u001b[0;34m\u001b[0m\u001b[0;34m\u001b[0m\u001b[0m\n\u001b[0m\u001b[1;32m      8\u001b[0m \u001b[0;34m\u001b[0m\u001b[0m\n\u001b[1;32m      9\u001b[0m \u001b[0;31m# Download the necessary NLTK resources\u001b[0m\u001b[0;34m\u001b[0m\u001b[0;34m\u001b[0m\u001b[0m\n",
            "\u001b[0;31mImportError\u001b[0m: cannot import name 'UNICODE_EMOJI_ENGLISH' from 'emoji' (/usr/local/lib/python3.10/dist-packages/emoji/__init__.py)",
            "",
            "\u001b[0;31m---------------------------------------------------------------------------\u001b[0;32m\nNOTE: If your import is failing due to a missing package, you can\nmanually install dependencies using either !pip or !apt.\n\nTo view examples of installing some common dependencies, click the\n\"Open Examples\" button below.\n\u001b[0;31m---------------------------------------------------------------------------\u001b[0m\n"
          ],
          "errorDetails": {
            "actions": [
              {
                "action": "open_url",
                "actionText": "Open Examples",
                "url": "/notebooks/snippets/importing_libraries.ipynb"
              }
            ]
          }
        }
      ]
    },
    {
      "cell_type": "code",
      "source": [
        "# First, install the emoji library if you haven't already\n",
        "# pip install emoji\n",
        "\n",
        "import emoji\n",
        "import re\n",
        "\n",
        "# Function to replace the word \"Python\" with the 🐍 emoji\n",
        "def replace_python_with_emoji(sentence):\n",
        "    return sentence.replace(\"Python\", emoji.emojize(\":snake:\"))\n",
        "\n",
        "# Function to remove all emojis from a sentence\n",
        "def remove_emojis(sentence):\n",
        "    # Emoji patterns are complex, but here's a basic regex to remove emojis\n",
        "    emoji_pattern = re.compile(\n",
        "        \"[\"\n",
        "        \"\\U0001F600-\\U0001F64F\"  # emoticons\n",
        "        \"\\U0001F300-\\U0001F5FF\"  # symbols & pictographs\n",
        "        \"\\U0001F680-\\U0001F6FF\"  # transport & map symbols\n",
        "        \"\\U0001F700-\\U0001F77F\"  # alchemical symbols\n",
        "        \"\\U0001F780-\\U0001F7FF\"  # Geometric Shapes Extended\n",
        "        \"\\U0001F800-\\U0001F8FF\"  # Supplemental Arrows-C\n",
        "        \"\\U0001F900-\\U0001F9FF\"  # Supplemental Symbols and Pictographs\n",
        "        \"\\U0001FA00-\\U0001FA6F\"  # Chess Symbols\n",
        "        \"\\U0001FA70-\\U0001FAFF\"  # Symbols and Pictographs Extended-A\n",
        "        \"\\U00002700-\\U000027BF\"  # Dingbats\n",
        "        \"\\U0001F1E0-\\U0001F1FF\"  # flags (iOS)\n",
        "        \"]+\", flags=re.UNICODE\n",
        "    )\n",
        "    return emoji_pattern.sub(r'', sentence)\n",
        "\n",
        "# Test input for part (a)\n",
        "sentence_a = \"I love Python programming!\"\n",
        "result_a = replace_python_with_emoji(sentence_a)\n",
        "print(\"Part (a) - Emoji replacement:\", result_a)\n",
        "\n",
        "# Test input for part (b)\n",
        "sentence_b = \"This is amazing 😃, I love it! 🎉\"\n",
        "result_b = remove_emojis(sentence_b)\n",
        "print(\"Part (b) - Emoji removal:\", result_b)\n"
      ],
      "metadata": {
        "colab": {
          "base_uri": "https://localhost:8080/"
        },
        "id": "HEyxYyZ9qGZ3",
        "outputId": "aa261515-1fb0-4a40-ec15-84efa90afe87"
      },
      "id": "HEyxYyZ9qGZ3",
      "execution_count": 65,
      "outputs": [
        {
          "output_type": "stream",
          "name": "stdout",
          "text": [
            "Part (a) - Emoji replacement: I love 🐍 programming!\n",
            "Part (b) - Emoji removal: This is amazing , I love it! \n"
          ]
        }
      ]
    },
    {
      "cell_type": "code",
      "source": [
        "# First, install the emoji library if you haven't already\n",
        "# pip install emoji\n",
        "\n",
        "import emoji\n",
        "import re\n",
        "\n",
        "# Function to replace the word \"Python\" with the 🐍 emoji\n",
        "def replace_python_with_emoji(sentence):\n",
        "    return sentence.replace(\"Python\", emoji.emojize(\":snake:\"))\n",
        "\n",
        "# Function to remove all emojis from a sentence\n",
        "def remove_emojis(sentence):\n",
        "    # Emoji patterns are complex, but here's a basic regex to remove emojis\n",
        "    emoji_pattern = re.compile(\n",
        "        \"[\"\n",
        "        \"\\U0001F600-\\U0001F64F\"  # emoticons\n",
        "        \"\\U0001F300-\\U0001F5FF\"  # symbols & pictographs\n",
        "        \"\\U0001F680-\\U0001F6FF\"  # transport & map symbols\n",
        "        \"\\U0001F700-\\U0001F77F\"  # alchemical symbols\n",
        "        \"\\U0001F780-\\U0001F7FF\"  # Geometric Shapes Extended\n",
        "        \"\\U0001F800-\\U0001F8FF\"  # Supplemental Arrows-C\n",
        "        \"\\U0001F900-\\U0001F9FF\"  # Supplemental Symbols and Pictographs\n",
        "        \"\\U0001FA00-\\U0001FA6F\"  # Chess Symbols\n",
        "        \"\\U0001FA70-\\U0001FAFF\"  # Symbols and Pictographs Extended-A\n",
        "        \"\\U00002700-\\U000027BF\"  # Dingbats\n",
        "        \"\\U0001F1E0-\\U0001F1FF\"  # flags (iOS)\n",
        "        \"]+\", flags=re.UNICODE\n",
        "    )\n",
        "    return emoji_pattern.sub(r'', sentence)\n",
        "\n",
        "# Load sentences from the 'q4sentences.txt' file\n",
        "def load_sentences(filename):\n",
        "    with open(filename, 'r', encoding='utf-8') as file:\n",
        "        lines = file.readlines()\n",
        "    return [line.strip() for line in lines]\n",
        "\n",
        "# Main function to process the sentences\n",
        "def main():\n",
        "    # Load sentences from file\n",
        "    sentences = load_sentences('q4sentences.txt')\n",
        "\n",
        "    # Ensure we have at least 2 lines (one for each part of the question)\n",
        "    if len(sentences) >= 2:\n",
        "        # Part (a)\n",
        "        sentence_a = sentences[0]\n",
        "        result_a = replace_python_with_emoji(sentence_a)\n",
        "        print(\"Part (a) - Emoji replacement:\", result_a)\n",
        "\n",
        "        # Part (b)\n",
        "        sentence_b = sentences[1]\n",
        "        result_b = remove_emojis(sentence_b)\n",
        "        print(\"Part (b) - Emoji removal:\", result_b)\n",
        "    else:\n",
        "        print(\"Error: The file must contain at least two lines.\")\n",
        "\n",
        "# Run the main function\n",
        "if __name__ == \"__main__\":\n",
        "    main()"
      ],
      "metadata": {
        "id": "LDGKNEoiq-8m"
      },
      "id": "LDGKNEoiq-8m",
      "execution_count": null,
      "outputs": []
    },
    {
      "cell_type": "code",
      "source": [
        "# c) Write a Python function that stems a list of words. Apply stemming to the following words:\n",
        "# [\"running\", \"jumps\", \"easily\", \"fairly\", \"swimming\", \"faster\"]\n",
        "\n",
        "import nltk\n",
        "from nltk.stem import PorterStemmer\n",
        "\n",
        "# Ensure you have the necessary resources\n",
        "nltk.download('punkt')\n",
        "\n",
        "def stem_words(words):\n",
        "    stemmer = PorterStemmer()\n",
        "    return [stemmer.stem(word) for word in words]\n",
        "\n",
        "# List of words to stem\n",
        "words = [\"running\", \"jumps\", \"easily\", \"fairly\", \"swimming\", \"faster\"]\n",
        "# Apply stemming\n",
        "stemmed_words = stem_words(words)\n",
        "\n",
        "print(stemmed_words)\n"
      ],
      "metadata": {
        "colab": {
          "base_uri": "https://localhost:8080/"
        },
        "id": "at9sPMQksyp4",
        "outputId": "6ae5ca98-18f7-483b-b106-869328334aed"
      },
      "id": "at9sPMQksyp4",
      "execution_count": 66,
      "outputs": [
        {
          "output_type": "stream",
          "name": "stdout",
          "text": [
            "['run', 'jump', 'easili', 'fairli', 'swim', 'faster']\n"
          ]
        },
        {
          "output_type": "stream",
          "name": "stderr",
          "text": [
            "[nltk_data] Downloading package punkt to /root/nltk_data...\n",
            "[nltk_data]   Package punkt is already up-to-date!\n"
          ]
        }
      ]
    },
    {
      "cell_type": "code",
      "source": [
        "#Q5) Perform Topic Modeling on the given corpus (20 Marks)\n",
        "\n",
        "pip install gensim nltk matplotlib pyLDAvis\n",
        "# Import necessary libraries\n",
        "import nltk\n",
        "from nltk.corpus import stopwords\n",
        "from nltk.tokenize import word_tokenize\n",
        "import gensim\n",
        "from gensim import corpora\n",
        "import matplotlib.pyplot as plt\n",
        "import pyLDAvis\n",
        "import pyLDAvis.gensim_models\n",
        "\n",
        "# Load NLTK's stopwords\n",
        "nltk.download('punkt')\n",
        "nltk.download('stopwords')\n",
        "stop_words = set(stopwords.words('english'))\n",
        "\n",
        "# Load the corpus\n",
        "with open('corpus.txt', 'r') as file:\n",
        "    documents = file.readlines()\n",
        "\n",
        "#preprcoess text\n",
        "\n",
        "# Preprocess the documents\n",
        "def preprocess(documents):\n",
        "    processed_docs = []\n",
        "    for doc in documents:\n",
        "        # Tokenize\n",
        "        tokens = word_tokenize(doc.lower())\n",
        "        # Remove stop words and non-alphabetic tokens\n",
        "        filtered_tokens = [word for word in tokens if word.isalpha() and word not in stop_words]\n",
        "        processed_docs.append(filtered_tokens)\n",
        "    return processed_docs\n",
        "\n",
        "# Preprocessed documents\n",
        "processed_documents = preprocess(documents)\n",
        "\n",
        "#create dictonary arnd corpus\n",
        "\n",
        "# Create a dictionary and corpus\n",
        "dictionary = corpora.Dictionary(processed_documents)\n",
        "corpus = [dictionary.doc2bow(doc) for doc in processed_documents]\n",
        "\n",
        "#train LDA\n",
        "# Set parameters\n",
        "num_topics = 5  # Change as needed\n",
        "lda_model = gensim.models.LdaModel(corpus, num_topics=num_topics, id2word=dictionary, passes=15)\n",
        "\n",
        "#view topics\n",
        "# Display the topics\n",
        "for idx, topic in lda_model.print_topics(num_topics=num_topics):\n",
        "    print(f\"Topic {idx}: {topic}\")\n",
        "\n",
        "\n",
        "#visualize the results\n",
        "# Visualize the topics\n",
        "vis = pyLDAvis.gensim_models.prepare(lda_model, corpus, dictionary)\n",
        "pyLDAvis.display(vis)\n",
        "\n",
        "#plot topic distribution\n",
        "# Plot the topic distribution\n",
        "doc_topics = lda_model.get_document_topics(corpus)\n",
        "topic_counts = [0] * num_topics\n",
        "\n",
        "# Count topics\n",
        "for doc in doc_topics:\n",
        "    for topic in doc:\n",
        "        topic_counts[topic[0]] += 1\n",
        "\n",
        "plt.figure(figsize=(10, 6))\n",
        "plt.bar(range(num_topics), topic_counts, color='skyblue')\n",
        "plt.xlabel('Topics')\n",
        "plt.ylabel('Number of Documents')\n",
        "plt.title('Document Distribution Across Topics')\n",
        "plt.xticks(range(num_topics), [f'Topic {i}' for i in range(num_topics)])\n",
        "plt.show()\n"
      ],
      "metadata": {
        "id": "4scBMMMas1u4"
      },
      "id": "4scBMMMas1u4",
      "execution_count": null,
      "outputs": []
    }
  ],
  "metadata": {
    "kernelspec": {
      "display_name": "Python 3 (ipykernel)",
      "language": "python",
      "name": "python3"
    },
    "language_info": {
      "codemirror_mode": {
        "name": "ipython",
        "version": 3
      },
      "file_extension": ".py",
      "mimetype": "text/x-python",
      "name": "python",
      "nbconvert_exporter": "python",
      "pygments_lexer": "ipython3",
      "version": "3.11.4"
    },
    "colab": {
      "provenance": []
    },
    "widgets": {
      "application/vnd.jupyter.widget-state+json": {
        "1d9978d532bd46bc8ffad856c0fdd96d": {
          "model_module": "@jupyter-widgets/controls",
          "model_name": "HBoxModel",
          "model_module_version": "1.5.0",
          "state": {
            "_dom_classes": [],
            "_model_module": "@jupyter-widgets/controls",
            "_model_module_version": "1.5.0",
            "_model_name": "HBoxModel",
            "_view_count": null,
            "_view_module": "@jupyter-widgets/controls",
            "_view_module_version": "1.5.0",
            "_view_name": "HBoxView",
            "box_style": "",
            "children": [
              "IPY_MODEL_f5e99831ffb14609984708aa2cede719",
              "IPY_MODEL_60637f659f6d43e59a7facaf5221a4fc",
              "IPY_MODEL_a4000ed679a546b895d0a90fddd80ed9"
            ],
            "layout": "IPY_MODEL_fc1a23bc13d84c7488b329ebd9671c50"
          }
        },
        "f5e99831ffb14609984708aa2cede719": {
          "model_module": "@jupyter-widgets/controls",
          "model_name": "HTMLModel",
          "model_module_version": "1.5.0",
          "state": {
            "_dom_classes": [],
            "_model_module": "@jupyter-widgets/controls",
            "_model_module_version": "1.5.0",
            "_model_name": "HTMLModel",
            "_view_count": null,
            "_view_module": "@jupyter-widgets/controls",
            "_view_module_version": "1.5.0",
            "_view_name": "HTMLView",
            "description": "",
            "description_tooltip": null,
            "layout": "IPY_MODEL_c1d2e57ca34d499ea34ba000701d5307",
            "placeholder": "​",
            "style": "IPY_MODEL_3573ac8203cd42f89f8b7c1b1d3e1b93",
            "value": "config.json: 100%"
          }
        },
        "60637f659f6d43e59a7facaf5221a4fc": {
          "model_module": "@jupyter-widgets/controls",
          "model_name": "FloatProgressModel",
          "model_module_version": "1.5.0",
          "state": {
            "_dom_classes": [],
            "_model_module": "@jupyter-widgets/controls",
            "_model_module_version": "1.5.0",
            "_model_name": "FloatProgressModel",
            "_view_count": null,
            "_view_module": "@jupyter-widgets/controls",
            "_view_module_version": "1.5.0",
            "_view_name": "ProgressView",
            "bar_style": "success",
            "description": "",
            "description_tooltip": null,
            "layout": "IPY_MODEL_308f153f8eab4e829f550043e5b6b5e2",
            "max": 629,
            "min": 0,
            "orientation": "horizontal",
            "style": "IPY_MODEL_f27ec22762534206850adf0c07bd6e87",
            "value": 629
          }
        },
        "a4000ed679a546b895d0a90fddd80ed9": {
          "model_module": "@jupyter-widgets/controls",
          "model_name": "HTMLModel",
          "model_module_version": "1.5.0",
          "state": {
            "_dom_classes": [],
            "_model_module": "@jupyter-widgets/controls",
            "_model_module_version": "1.5.0",
            "_model_name": "HTMLModel",
            "_view_count": null,
            "_view_module": "@jupyter-widgets/controls",
            "_view_module_version": "1.5.0",
            "_view_name": "HTMLView",
            "description": "",
            "description_tooltip": null,
            "layout": "IPY_MODEL_217f16d25e404e38965ce98c811a5ef4",
            "placeholder": "​",
            "style": "IPY_MODEL_c7bb6ee2e1514a68ae77770565efa10c",
            "value": " 629/629 [00:00&lt;00:00, 7.12kB/s]"
          }
        },
        "fc1a23bc13d84c7488b329ebd9671c50": {
          "model_module": "@jupyter-widgets/base",
          "model_name": "LayoutModel",
          "model_module_version": "1.2.0",
          "state": {
            "_model_module": "@jupyter-widgets/base",
            "_model_module_version": "1.2.0",
            "_model_name": "LayoutModel",
            "_view_count": null,
            "_view_module": "@jupyter-widgets/base",
            "_view_module_version": "1.2.0",
            "_view_name": "LayoutView",
            "align_content": null,
            "align_items": null,
            "align_self": null,
            "border": null,
            "bottom": null,
            "display": null,
            "flex": null,
            "flex_flow": null,
            "grid_area": null,
            "grid_auto_columns": null,
            "grid_auto_flow": null,
            "grid_auto_rows": null,
            "grid_column": null,
            "grid_gap": null,
            "grid_row": null,
            "grid_template_areas": null,
            "grid_template_columns": null,
            "grid_template_rows": null,
            "height": null,
            "justify_content": null,
            "justify_items": null,
            "left": null,
            "margin": null,
            "max_height": null,
            "max_width": null,
            "min_height": null,
            "min_width": null,
            "object_fit": null,
            "object_position": null,
            "order": null,
            "overflow": null,
            "overflow_x": null,
            "overflow_y": null,
            "padding": null,
            "right": null,
            "top": null,
            "visibility": null,
            "width": null
          }
        },
        "c1d2e57ca34d499ea34ba000701d5307": {
          "model_module": "@jupyter-widgets/base",
          "model_name": "LayoutModel",
          "model_module_version": "1.2.0",
          "state": {
            "_model_module": "@jupyter-widgets/base",
            "_model_module_version": "1.2.0",
            "_model_name": "LayoutModel",
            "_view_count": null,
            "_view_module": "@jupyter-widgets/base",
            "_view_module_version": "1.2.0",
            "_view_name": "LayoutView",
            "align_content": null,
            "align_items": null,
            "align_self": null,
            "border": null,
            "bottom": null,
            "display": null,
            "flex": null,
            "flex_flow": null,
            "grid_area": null,
            "grid_auto_columns": null,
            "grid_auto_flow": null,
            "grid_auto_rows": null,
            "grid_column": null,
            "grid_gap": null,
            "grid_row": null,
            "grid_template_areas": null,
            "grid_template_columns": null,
            "grid_template_rows": null,
            "height": null,
            "justify_content": null,
            "justify_items": null,
            "left": null,
            "margin": null,
            "max_height": null,
            "max_width": null,
            "min_height": null,
            "min_width": null,
            "object_fit": null,
            "object_position": null,
            "order": null,
            "overflow": null,
            "overflow_x": null,
            "overflow_y": null,
            "padding": null,
            "right": null,
            "top": null,
            "visibility": null,
            "width": null
          }
        },
        "3573ac8203cd42f89f8b7c1b1d3e1b93": {
          "model_module": "@jupyter-widgets/controls",
          "model_name": "DescriptionStyleModel",
          "model_module_version": "1.5.0",
          "state": {
            "_model_module": "@jupyter-widgets/controls",
            "_model_module_version": "1.5.0",
            "_model_name": "DescriptionStyleModel",
            "_view_count": null,
            "_view_module": "@jupyter-widgets/base",
            "_view_module_version": "1.2.0",
            "_view_name": "StyleView",
            "description_width": ""
          }
        },
        "308f153f8eab4e829f550043e5b6b5e2": {
          "model_module": "@jupyter-widgets/base",
          "model_name": "LayoutModel",
          "model_module_version": "1.2.0",
          "state": {
            "_model_module": "@jupyter-widgets/base",
            "_model_module_version": "1.2.0",
            "_model_name": "LayoutModel",
            "_view_count": null,
            "_view_module": "@jupyter-widgets/base",
            "_view_module_version": "1.2.0",
            "_view_name": "LayoutView",
            "align_content": null,
            "align_items": null,
            "align_self": null,
            "border": null,
            "bottom": null,
            "display": null,
            "flex": null,
            "flex_flow": null,
            "grid_area": null,
            "grid_auto_columns": null,
            "grid_auto_flow": null,
            "grid_auto_rows": null,
            "grid_column": null,
            "grid_gap": null,
            "grid_row": null,
            "grid_template_areas": null,
            "grid_template_columns": null,
            "grid_template_rows": null,
            "height": null,
            "justify_content": null,
            "justify_items": null,
            "left": null,
            "margin": null,
            "max_height": null,
            "max_width": null,
            "min_height": null,
            "min_width": null,
            "object_fit": null,
            "object_position": null,
            "order": null,
            "overflow": null,
            "overflow_x": null,
            "overflow_y": null,
            "padding": null,
            "right": null,
            "top": null,
            "visibility": null,
            "width": null
          }
        },
        "f27ec22762534206850adf0c07bd6e87": {
          "model_module": "@jupyter-widgets/controls",
          "model_name": "ProgressStyleModel",
          "model_module_version": "1.5.0",
          "state": {
            "_model_module": "@jupyter-widgets/controls",
            "_model_module_version": "1.5.0",
            "_model_name": "ProgressStyleModel",
            "_view_count": null,
            "_view_module": "@jupyter-widgets/base",
            "_view_module_version": "1.2.0",
            "_view_name": "StyleView",
            "bar_color": null,
            "description_width": ""
          }
        },
        "217f16d25e404e38965ce98c811a5ef4": {
          "model_module": "@jupyter-widgets/base",
          "model_name": "LayoutModel",
          "model_module_version": "1.2.0",
          "state": {
            "_model_module": "@jupyter-widgets/base",
            "_model_module_version": "1.2.0",
            "_model_name": "LayoutModel",
            "_view_count": null,
            "_view_module": "@jupyter-widgets/base",
            "_view_module_version": "1.2.0",
            "_view_name": "LayoutView",
            "align_content": null,
            "align_items": null,
            "align_self": null,
            "border": null,
            "bottom": null,
            "display": null,
            "flex": null,
            "flex_flow": null,
            "grid_area": null,
            "grid_auto_columns": null,
            "grid_auto_flow": null,
            "grid_auto_rows": null,
            "grid_column": null,
            "grid_gap": null,
            "grid_row": null,
            "grid_template_areas": null,
            "grid_template_columns": null,
            "grid_template_rows": null,
            "height": null,
            "justify_content": null,
            "justify_items": null,
            "left": null,
            "margin": null,
            "max_height": null,
            "max_width": null,
            "min_height": null,
            "min_width": null,
            "object_fit": null,
            "object_position": null,
            "order": null,
            "overflow": null,
            "overflow_x": null,
            "overflow_y": null,
            "padding": null,
            "right": null,
            "top": null,
            "visibility": null,
            "width": null
          }
        },
        "c7bb6ee2e1514a68ae77770565efa10c": {
          "model_module": "@jupyter-widgets/controls",
          "model_name": "DescriptionStyleModel",
          "model_module_version": "1.5.0",
          "state": {
            "_model_module": "@jupyter-widgets/controls",
            "_model_module_version": "1.5.0",
            "_model_name": "DescriptionStyleModel",
            "_view_count": null,
            "_view_module": "@jupyter-widgets/base",
            "_view_module_version": "1.2.0",
            "_view_name": "StyleView",
            "description_width": ""
          }
        },
        "7826587b91e1440db415010009d1c2f3": {
          "model_module": "@jupyter-widgets/controls",
          "model_name": "HBoxModel",
          "model_module_version": "1.5.0",
          "state": {
            "_dom_classes": [],
            "_model_module": "@jupyter-widgets/controls",
            "_model_module_version": "1.5.0",
            "_model_name": "HBoxModel",
            "_view_count": null,
            "_view_module": "@jupyter-widgets/controls",
            "_view_module_version": "1.5.0",
            "_view_name": "HBoxView",
            "box_style": "",
            "children": [
              "IPY_MODEL_dc049f2fb9654476b0f2cadf53941729",
              "IPY_MODEL_f1a86afa3a254e50ac1d31b0aa1df635",
              "IPY_MODEL_b22e38735209446bb5bca15a68290125"
            ],
            "layout": "IPY_MODEL_6ea435024f7d4b09a7b0a4235f48fa37"
          }
        },
        "dc049f2fb9654476b0f2cadf53941729": {
          "model_module": "@jupyter-widgets/controls",
          "model_name": "HTMLModel",
          "model_module_version": "1.5.0",
          "state": {
            "_dom_classes": [],
            "_model_module": "@jupyter-widgets/controls",
            "_model_module_version": "1.5.0",
            "_model_name": "HTMLModel",
            "_view_count": null,
            "_view_module": "@jupyter-widgets/controls",
            "_view_module_version": "1.5.0",
            "_view_name": "HTMLView",
            "description": "",
            "description_tooltip": null,
            "layout": "IPY_MODEL_335ba48348614db4b31debf16b0748f3",
            "placeholder": "​",
            "style": "IPY_MODEL_3d3c21aaef194c598277496b522d4344",
            "value": "model.safetensors: 100%"
          }
        },
        "f1a86afa3a254e50ac1d31b0aa1df635": {
          "model_module": "@jupyter-widgets/controls",
          "model_name": "FloatProgressModel",
          "model_module_version": "1.5.0",
          "state": {
            "_dom_classes": [],
            "_model_module": "@jupyter-widgets/controls",
            "_model_module_version": "1.5.0",
            "_model_name": "FloatProgressModel",
            "_view_count": null,
            "_view_module": "@jupyter-widgets/controls",
            "_view_module_version": "1.5.0",
            "_view_name": "ProgressView",
            "bar_style": "success",
            "description": "",
            "description_tooltip": null,
            "layout": "IPY_MODEL_89004a379ab349ee95ab7fee6cd1338c",
            "max": 267832558,
            "min": 0,
            "orientation": "horizontal",
            "style": "IPY_MODEL_e4de58e7f6334af0819a7c30161f08ff",
            "value": 267832558
          }
        },
        "b22e38735209446bb5bca15a68290125": {
          "model_module": "@jupyter-widgets/controls",
          "model_name": "HTMLModel",
          "model_module_version": "1.5.0",
          "state": {
            "_dom_classes": [],
            "_model_module": "@jupyter-widgets/controls",
            "_model_module_version": "1.5.0",
            "_model_name": "HTMLModel",
            "_view_count": null,
            "_view_module": "@jupyter-widgets/controls",
            "_view_module_version": "1.5.0",
            "_view_name": "HTMLView",
            "description": "",
            "description_tooltip": null,
            "layout": "IPY_MODEL_1329c61bdd544c6e95829877ebee41c3",
            "placeholder": "​",
            "style": "IPY_MODEL_d0e5138612ff4ba8a64cc5f580e10b54",
            "value": " 268M/268M [00:02&lt;00:00, 145MB/s]"
          }
        },
        "6ea435024f7d4b09a7b0a4235f48fa37": {
          "model_module": "@jupyter-widgets/base",
          "model_name": "LayoutModel",
          "model_module_version": "1.2.0",
          "state": {
            "_model_module": "@jupyter-widgets/base",
            "_model_module_version": "1.2.0",
            "_model_name": "LayoutModel",
            "_view_count": null,
            "_view_module": "@jupyter-widgets/base",
            "_view_module_version": "1.2.0",
            "_view_name": "LayoutView",
            "align_content": null,
            "align_items": null,
            "align_self": null,
            "border": null,
            "bottom": null,
            "display": null,
            "flex": null,
            "flex_flow": null,
            "grid_area": null,
            "grid_auto_columns": null,
            "grid_auto_flow": null,
            "grid_auto_rows": null,
            "grid_column": null,
            "grid_gap": null,
            "grid_row": null,
            "grid_template_areas": null,
            "grid_template_columns": null,
            "grid_template_rows": null,
            "height": null,
            "justify_content": null,
            "justify_items": null,
            "left": null,
            "margin": null,
            "max_height": null,
            "max_width": null,
            "min_height": null,
            "min_width": null,
            "object_fit": null,
            "object_position": null,
            "order": null,
            "overflow": null,
            "overflow_x": null,
            "overflow_y": null,
            "padding": null,
            "right": null,
            "top": null,
            "visibility": null,
            "width": null
          }
        },
        "335ba48348614db4b31debf16b0748f3": {
          "model_module": "@jupyter-widgets/base",
          "model_name": "LayoutModel",
          "model_module_version": "1.2.0",
          "state": {
            "_model_module": "@jupyter-widgets/base",
            "_model_module_version": "1.2.0",
            "_model_name": "LayoutModel",
            "_view_count": null,
            "_view_module": "@jupyter-widgets/base",
            "_view_module_version": "1.2.0",
            "_view_name": "LayoutView",
            "align_content": null,
            "align_items": null,
            "align_self": null,
            "border": null,
            "bottom": null,
            "display": null,
            "flex": null,
            "flex_flow": null,
            "grid_area": null,
            "grid_auto_columns": null,
            "grid_auto_flow": null,
            "grid_auto_rows": null,
            "grid_column": null,
            "grid_gap": null,
            "grid_row": null,
            "grid_template_areas": null,
            "grid_template_columns": null,
            "grid_template_rows": null,
            "height": null,
            "justify_content": null,
            "justify_items": null,
            "left": null,
            "margin": null,
            "max_height": null,
            "max_width": null,
            "min_height": null,
            "min_width": null,
            "object_fit": null,
            "object_position": null,
            "order": null,
            "overflow": null,
            "overflow_x": null,
            "overflow_y": null,
            "padding": null,
            "right": null,
            "top": null,
            "visibility": null,
            "width": null
          }
        },
        "3d3c21aaef194c598277496b522d4344": {
          "model_module": "@jupyter-widgets/controls",
          "model_name": "DescriptionStyleModel",
          "model_module_version": "1.5.0",
          "state": {
            "_model_module": "@jupyter-widgets/controls",
            "_model_module_version": "1.5.0",
            "_model_name": "DescriptionStyleModel",
            "_view_count": null,
            "_view_module": "@jupyter-widgets/base",
            "_view_module_version": "1.2.0",
            "_view_name": "StyleView",
            "description_width": ""
          }
        },
        "89004a379ab349ee95ab7fee6cd1338c": {
          "model_module": "@jupyter-widgets/base",
          "model_name": "LayoutModel",
          "model_module_version": "1.2.0",
          "state": {
            "_model_module": "@jupyter-widgets/base",
            "_model_module_version": "1.2.0",
            "_model_name": "LayoutModel",
            "_view_count": null,
            "_view_module": "@jupyter-widgets/base",
            "_view_module_version": "1.2.0",
            "_view_name": "LayoutView",
            "align_content": null,
            "align_items": null,
            "align_self": null,
            "border": null,
            "bottom": null,
            "display": null,
            "flex": null,
            "flex_flow": null,
            "grid_area": null,
            "grid_auto_columns": null,
            "grid_auto_flow": null,
            "grid_auto_rows": null,
            "grid_column": null,
            "grid_gap": null,
            "grid_row": null,
            "grid_template_areas": null,
            "grid_template_columns": null,
            "grid_template_rows": null,
            "height": null,
            "justify_content": null,
            "justify_items": null,
            "left": null,
            "margin": null,
            "max_height": null,
            "max_width": null,
            "min_height": null,
            "min_width": null,
            "object_fit": null,
            "object_position": null,
            "order": null,
            "overflow": null,
            "overflow_x": null,
            "overflow_y": null,
            "padding": null,
            "right": null,
            "top": null,
            "visibility": null,
            "width": null
          }
        },
        "e4de58e7f6334af0819a7c30161f08ff": {
          "model_module": "@jupyter-widgets/controls",
          "model_name": "ProgressStyleModel",
          "model_module_version": "1.5.0",
          "state": {
            "_model_module": "@jupyter-widgets/controls",
            "_model_module_version": "1.5.0",
            "_model_name": "ProgressStyleModel",
            "_view_count": null,
            "_view_module": "@jupyter-widgets/base",
            "_view_module_version": "1.2.0",
            "_view_name": "StyleView",
            "bar_color": null,
            "description_width": ""
          }
        },
        "1329c61bdd544c6e95829877ebee41c3": {
          "model_module": "@jupyter-widgets/base",
          "model_name": "LayoutModel",
          "model_module_version": "1.2.0",
          "state": {
            "_model_module": "@jupyter-widgets/base",
            "_model_module_version": "1.2.0",
            "_model_name": "LayoutModel",
            "_view_count": null,
            "_view_module": "@jupyter-widgets/base",
            "_view_module_version": "1.2.0",
            "_view_name": "LayoutView",
            "align_content": null,
            "align_items": null,
            "align_self": null,
            "border": null,
            "bottom": null,
            "display": null,
            "flex": null,
            "flex_flow": null,
            "grid_area": null,
            "grid_auto_columns": null,
            "grid_auto_flow": null,
            "grid_auto_rows": null,
            "grid_column": null,
            "grid_gap": null,
            "grid_row": null,
            "grid_template_areas": null,
            "grid_template_columns": null,
            "grid_template_rows": null,
            "height": null,
            "justify_content": null,
            "justify_items": null,
            "left": null,
            "margin": null,
            "max_height": null,
            "max_width": null,
            "min_height": null,
            "min_width": null,
            "object_fit": null,
            "object_position": null,
            "order": null,
            "overflow": null,
            "overflow_x": null,
            "overflow_y": null,
            "padding": null,
            "right": null,
            "top": null,
            "visibility": null,
            "width": null
          }
        },
        "d0e5138612ff4ba8a64cc5f580e10b54": {
          "model_module": "@jupyter-widgets/controls",
          "model_name": "DescriptionStyleModel",
          "model_module_version": "1.5.0",
          "state": {
            "_model_module": "@jupyter-widgets/controls",
            "_model_module_version": "1.5.0",
            "_model_name": "DescriptionStyleModel",
            "_view_count": null,
            "_view_module": "@jupyter-widgets/base",
            "_view_module_version": "1.2.0",
            "_view_name": "StyleView",
            "description_width": ""
          }
        },
        "bbe57c5eaeff42b4b575adc6d2bf6761": {
          "model_module": "@jupyter-widgets/controls",
          "model_name": "HBoxModel",
          "model_module_version": "1.5.0",
          "state": {
            "_dom_classes": [],
            "_model_module": "@jupyter-widgets/controls",
            "_model_module_version": "1.5.0",
            "_model_name": "HBoxModel",
            "_view_count": null,
            "_view_module": "@jupyter-widgets/controls",
            "_view_module_version": "1.5.0",
            "_view_name": "HBoxView",
            "box_style": "",
            "children": [
              "IPY_MODEL_b59c35915cf2417fa45d860cee93bf47",
              "IPY_MODEL_86a4a42ca5e848f3abfc81847e91d0e2",
              "IPY_MODEL_87258bf827f446d2a269f47370e7843b"
            ],
            "layout": "IPY_MODEL_ff883877c4bc41bb9afc31e3a3afc4d0"
          }
        },
        "b59c35915cf2417fa45d860cee93bf47": {
          "model_module": "@jupyter-widgets/controls",
          "model_name": "HTMLModel",
          "model_module_version": "1.5.0",
          "state": {
            "_dom_classes": [],
            "_model_module": "@jupyter-widgets/controls",
            "_model_module_version": "1.5.0",
            "_model_name": "HTMLModel",
            "_view_count": null,
            "_view_module": "@jupyter-widgets/controls",
            "_view_module_version": "1.5.0",
            "_view_name": "HTMLView",
            "description": "",
            "description_tooltip": null,
            "layout": "IPY_MODEL_01b177a3a5964449b563310f332b0b26",
            "placeholder": "​",
            "style": "IPY_MODEL_d122c8bca1bf4ab680b4566bbac1fa59",
            "value": "tokenizer_config.json: 100%"
          }
        },
        "86a4a42ca5e848f3abfc81847e91d0e2": {
          "model_module": "@jupyter-widgets/controls",
          "model_name": "FloatProgressModel",
          "model_module_version": "1.5.0",
          "state": {
            "_dom_classes": [],
            "_model_module": "@jupyter-widgets/controls",
            "_model_module_version": "1.5.0",
            "_model_name": "FloatProgressModel",
            "_view_count": null,
            "_view_module": "@jupyter-widgets/controls",
            "_view_module_version": "1.5.0",
            "_view_name": "ProgressView",
            "bar_style": "success",
            "description": "",
            "description_tooltip": null,
            "layout": "IPY_MODEL_737ed8e76f824ce087f9cfd48ab651f0",
            "max": 48,
            "min": 0,
            "orientation": "horizontal",
            "style": "IPY_MODEL_4364dfb830164e22853e9ba1941c85f2",
            "value": 48
          }
        },
        "87258bf827f446d2a269f47370e7843b": {
          "model_module": "@jupyter-widgets/controls",
          "model_name": "HTMLModel",
          "model_module_version": "1.5.0",
          "state": {
            "_dom_classes": [],
            "_model_module": "@jupyter-widgets/controls",
            "_model_module_version": "1.5.0",
            "_model_name": "HTMLModel",
            "_view_count": null,
            "_view_module": "@jupyter-widgets/controls",
            "_view_module_version": "1.5.0",
            "_view_name": "HTMLView",
            "description": "",
            "description_tooltip": null,
            "layout": "IPY_MODEL_4570e5cdba9544be9c71da99ecbb23e2",
            "placeholder": "​",
            "style": "IPY_MODEL_1b1047db07e243038894727da7034c9f",
            "value": " 48.0/48.0 [00:00&lt;00:00, 1.07kB/s]"
          }
        },
        "ff883877c4bc41bb9afc31e3a3afc4d0": {
          "model_module": "@jupyter-widgets/base",
          "model_name": "LayoutModel",
          "model_module_version": "1.2.0",
          "state": {
            "_model_module": "@jupyter-widgets/base",
            "_model_module_version": "1.2.0",
            "_model_name": "LayoutModel",
            "_view_count": null,
            "_view_module": "@jupyter-widgets/base",
            "_view_module_version": "1.2.0",
            "_view_name": "LayoutView",
            "align_content": null,
            "align_items": null,
            "align_self": null,
            "border": null,
            "bottom": null,
            "display": null,
            "flex": null,
            "flex_flow": null,
            "grid_area": null,
            "grid_auto_columns": null,
            "grid_auto_flow": null,
            "grid_auto_rows": null,
            "grid_column": null,
            "grid_gap": null,
            "grid_row": null,
            "grid_template_areas": null,
            "grid_template_columns": null,
            "grid_template_rows": null,
            "height": null,
            "justify_content": null,
            "justify_items": null,
            "left": null,
            "margin": null,
            "max_height": null,
            "max_width": null,
            "min_height": null,
            "min_width": null,
            "object_fit": null,
            "object_position": null,
            "order": null,
            "overflow": null,
            "overflow_x": null,
            "overflow_y": null,
            "padding": null,
            "right": null,
            "top": null,
            "visibility": null,
            "width": null
          }
        },
        "01b177a3a5964449b563310f332b0b26": {
          "model_module": "@jupyter-widgets/base",
          "model_name": "LayoutModel",
          "model_module_version": "1.2.0",
          "state": {
            "_model_module": "@jupyter-widgets/base",
            "_model_module_version": "1.2.0",
            "_model_name": "LayoutModel",
            "_view_count": null,
            "_view_module": "@jupyter-widgets/base",
            "_view_module_version": "1.2.0",
            "_view_name": "LayoutView",
            "align_content": null,
            "align_items": null,
            "align_self": null,
            "border": null,
            "bottom": null,
            "display": null,
            "flex": null,
            "flex_flow": null,
            "grid_area": null,
            "grid_auto_columns": null,
            "grid_auto_flow": null,
            "grid_auto_rows": null,
            "grid_column": null,
            "grid_gap": null,
            "grid_row": null,
            "grid_template_areas": null,
            "grid_template_columns": null,
            "grid_template_rows": null,
            "height": null,
            "justify_content": null,
            "justify_items": null,
            "left": null,
            "margin": null,
            "max_height": null,
            "max_width": null,
            "min_height": null,
            "min_width": null,
            "object_fit": null,
            "object_position": null,
            "order": null,
            "overflow": null,
            "overflow_x": null,
            "overflow_y": null,
            "padding": null,
            "right": null,
            "top": null,
            "visibility": null,
            "width": null
          }
        },
        "d122c8bca1bf4ab680b4566bbac1fa59": {
          "model_module": "@jupyter-widgets/controls",
          "model_name": "DescriptionStyleModel",
          "model_module_version": "1.5.0",
          "state": {
            "_model_module": "@jupyter-widgets/controls",
            "_model_module_version": "1.5.0",
            "_model_name": "DescriptionStyleModel",
            "_view_count": null,
            "_view_module": "@jupyter-widgets/base",
            "_view_module_version": "1.2.0",
            "_view_name": "StyleView",
            "description_width": ""
          }
        },
        "737ed8e76f824ce087f9cfd48ab651f0": {
          "model_module": "@jupyter-widgets/base",
          "model_name": "LayoutModel",
          "model_module_version": "1.2.0",
          "state": {
            "_model_module": "@jupyter-widgets/base",
            "_model_module_version": "1.2.0",
            "_model_name": "LayoutModel",
            "_view_count": null,
            "_view_module": "@jupyter-widgets/base",
            "_view_module_version": "1.2.0",
            "_view_name": "LayoutView",
            "align_content": null,
            "align_items": null,
            "align_self": null,
            "border": null,
            "bottom": null,
            "display": null,
            "flex": null,
            "flex_flow": null,
            "grid_area": null,
            "grid_auto_columns": null,
            "grid_auto_flow": null,
            "grid_auto_rows": null,
            "grid_column": null,
            "grid_gap": null,
            "grid_row": null,
            "grid_template_areas": null,
            "grid_template_columns": null,
            "grid_template_rows": null,
            "height": null,
            "justify_content": null,
            "justify_items": null,
            "left": null,
            "margin": null,
            "max_height": null,
            "max_width": null,
            "min_height": null,
            "min_width": null,
            "object_fit": null,
            "object_position": null,
            "order": null,
            "overflow": null,
            "overflow_x": null,
            "overflow_y": null,
            "padding": null,
            "right": null,
            "top": null,
            "visibility": null,
            "width": null
          }
        },
        "4364dfb830164e22853e9ba1941c85f2": {
          "model_module": "@jupyter-widgets/controls",
          "model_name": "ProgressStyleModel",
          "model_module_version": "1.5.0",
          "state": {
            "_model_module": "@jupyter-widgets/controls",
            "_model_module_version": "1.5.0",
            "_model_name": "ProgressStyleModel",
            "_view_count": null,
            "_view_module": "@jupyter-widgets/base",
            "_view_module_version": "1.2.0",
            "_view_name": "StyleView",
            "bar_color": null,
            "description_width": ""
          }
        },
        "4570e5cdba9544be9c71da99ecbb23e2": {
          "model_module": "@jupyter-widgets/base",
          "model_name": "LayoutModel",
          "model_module_version": "1.2.0",
          "state": {
            "_model_module": "@jupyter-widgets/base",
            "_model_module_version": "1.2.0",
            "_model_name": "LayoutModel",
            "_view_count": null,
            "_view_module": "@jupyter-widgets/base",
            "_view_module_version": "1.2.0",
            "_view_name": "LayoutView",
            "align_content": null,
            "align_items": null,
            "align_self": null,
            "border": null,
            "bottom": null,
            "display": null,
            "flex": null,
            "flex_flow": null,
            "grid_area": null,
            "grid_auto_columns": null,
            "grid_auto_flow": null,
            "grid_auto_rows": null,
            "grid_column": null,
            "grid_gap": null,
            "grid_row": null,
            "grid_template_areas": null,
            "grid_template_columns": null,
            "grid_template_rows": null,
            "height": null,
            "justify_content": null,
            "justify_items": null,
            "left": null,
            "margin": null,
            "max_height": null,
            "max_width": null,
            "min_height": null,
            "min_width": null,
            "object_fit": null,
            "object_position": null,
            "order": null,
            "overflow": null,
            "overflow_x": null,
            "overflow_y": null,
            "padding": null,
            "right": null,
            "top": null,
            "visibility": null,
            "width": null
          }
        },
        "1b1047db07e243038894727da7034c9f": {
          "model_module": "@jupyter-widgets/controls",
          "model_name": "DescriptionStyleModel",
          "model_module_version": "1.5.0",
          "state": {
            "_model_module": "@jupyter-widgets/controls",
            "_model_module_version": "1.5.0",
            "_model_name": "DescriptionStyleModel",
            "_view_count": null,
            "_view_module": "@jupyter-widgets/base",
            "_view_module_version": "1.2.0",
            "_view_name": "StyleView",
            "description_width": ""
          }
        },
        "3f1ff53d446b44c5b071a47868d73fd6": {
          "model_module": "@jupyter-widgets/controls",
          "model_name": "HBoxModel",
          "model_module_version": "1.5.0",
          "state": {
            "_dom_classes": [],
            "_model_module": "@jupyter-widgets/controls",
            "_model_module_version": "1.5.0",
            "_model_name": "HBoxModel",
            "_view_count": null,
            "_view_module": "@jupyter-widgets/controls",
            "_view_module_version": "1.5.0",
            "_view_name": "HBoxView",
            "box_style": "",
            "children": [
              "IPY_MODEL_9748d056ca0f406d98a3ba7edf586e88",
              "IPY_MODEL_85760231bae145bca4ef00ad93805247",
              "IPY_MODEL_325fc398e2524e3abe8e8563fb66eb4c"
            ],
            "layout": "IPY_MODEL_d8ee6f4ee27f418ea3aaf3d51b1a220a"
          }
        },
        "9748d056ca0f406d98a3ba7edf586e88": {
          "model_module": "@jupyter-widgets/controls",
          "model_name": "HTMLModel",
          "model_module_version": "1.5.0",
          "state": {
            "_dom_classes": [],
            "_model_module": "@jupyter-widgets/controls",
            "_model_module_version": "1.5.0",
            "_model_name": "HTMLModel",
            "_view_count": null,
            "_view_module": "@jupyter-widgets/controls",
            "_view_module_version": "1.5.0",
            "_view_name": "HTMLView",
            "description": "",
            "description_tooltip": null,
            "layout": "IPY_MODEL_6700c8b6391643318678c39228bbf3ad",
            "placeholder": "​",
            "style": "IPY_MODEL_b95094babc354064abfe3914955fefd8",
            "value": "vocab.txt: 100%"
          }
        },
        "85760231bae145bca4ef00ad93805247": {
          "model_module": "@jupyter-widgets/controls",
          "model_name": "FloatProgressModel",
          "model_module_version": "1.5.0",
          "state": {
            "_dom_classes": [],
            "_model_module": "@jupyter-widgets/controls",
            "_model_module_version": "1.5.0",
            "_model_name": "FloatProgressModel",
            "_view_count": null,
            "_view_module": "@jupyter-widgets/controls",
            "_view_module_version": "1.5.0",
            "_view_name": "ProgressView",
            "bar_style": "success",
            "description": "",
            "description_tooltip": null,
            "layout": "IPY_MODEL_2aba329b1db24af2b5392397c1b31fa3",
            "max": 231508,
            "min": 0,
            "orientation": "horizontal",
            "style": "IPY_MODEL_31a03c3653c04afa967092cfc7242502",
            "value": 231508
          }
        },
        "325fc398e2524e3abe8e8563fb66eb4c": {
          "model_module": "@jupyter-widgets/controls",
          "model_name": "HTMLModel",
          "model_module_version": "1.5.0",
          "state": {
            "_dom_classes": [],
            "_model_module": "@jupyter-widgets/controls",
            "_model_module_version": "1.5.0",
            "_model_name": "HTMLModel",
            "_view_count": null,
            "_view_module": "@jupyter-widgets/controls",
            "_view_module_version": "1.5.0",
            "_view_name": "HTMLView",
            "description": "",
            "description_tooltip": null,
            "layout": "IPY_MODEL_5ec5949b0c604db09fc8a404020e48f2",
            "placeholder": "​",
            "style": "IPY_MODEL_d9e38f20e335490096921b6c599c5595",
            "value": " 232k/232k [00:00&lt;00:00, 3.43MB/s]"
          }
        },
        "d8ee6f4ee27f418ea3aaf3d51b1a220a": {
          "model_module": "@jupyter-widgets/base",
          "model_name": "LayoutModel",
          "model_module_version": "1.2.0",
          "state": {
            "_model_module": "@jupyter-widgets/base",
            "_model_module_version": "1.2.0",
            "_model_name": "LayoutModel",
            "_view_count": null,
            "_view_module": "@jupyter-widgets/base",
            "_view_module_version": "1.2.0",
            "_view_name": "LayoutView",
            "align_content": null,
            "align_items": null,
            "align_self": null,
            "border": null,
            "bottom": null,
            "display": null,
            "flex": null,
            "flex_flow": null,
            "grid_area": null,
            "grid_auto_columns": null,
            "grid_auto_flow": null,
            "grid_auto_rows": null,
            "grid_column": null,
            "grid_gap": null,
            "grid_row": null,
            "grid_template_areas": null,
            "grid_template_columns": null,
            "grid_template_rows": null,
            "height": null,
            "justify_content": null,
            "justify_items": null,
            "left": null,
            "margin": null,
            "max_height": null,
            "max_width": null,
            "min_height": null,
            "min_width": null,
            "object_fit": null,
            "object_position": null,
            "order": null,
            "overflow": null,
            "overflow_x": null,
            "overflow_y": null,
            "padding": null,
            "right": null,
            "top": null,
            "visibility": null,
            "width": null
          }
        },
        "6700c8b6391643318678c39228bbf3ad": {
          "model_module": "@jupyter-widgets/base",
          "model_name": "LayoutModel",
          "model_module_version": "1.2.0",
          "state": {
            "_model_module": "@jupyter-widgets/base",
            "_model_module_version": "1.2.0",
            "_model_name": "LayoutModel",
            "_view_count": null,
            "_view_module": "@jupyter-widgets/base",
            "_view_module_version": "1.2.0",
            "_view_name": "LayoutView",
            "align_content": null,
            "align_items": null,
            "align_self": null,
            "border": null,
            "bottom": null,
            "display": null,
            "flex": null,
            "flex_flow": null,
            "grid_area": null,
            "grid_auto_columns": null,
            "grid_auto_flow": null,
            "grid_auto_rows": null,
            "grid_column": null,
            "grid_gap": null,
            "grid_row": null,
            "grid_template_areas": null,
            "grid_template_columns": null,
            "grid_template_rows": null,
            "height": null,
            "justify_content": null,
            "justify_items": null,
            "left": null,
            "margin": null,
            "max_height": null,
            "max_width": null,
            "min_height": null,
            "min_width": null,
            "object_fit": null,
            "object_position": null,
            "order": null,
            "overflow": null,
            "overflow_x": null,
            "overflow_y": null,
            "padding": null,
            "right": null,
            "top": null,
            "visibility": null,
            "width": null
          }
        },
        "b95094babc354064abfe3914955fefd8": {
          "model_module": "@jupyter-widgets/controls",
          "model_name": "DescriptionStyleModel",
          "model_module_version": "1.5.0",
          "state": {
            "_model_module": "@jupyter-widgets/controls",
            "_model_module_version": "1.5.0",
            "_model_name": "DescriptionStyleModel",
            "_view_count": null,
            "_view_module": "@jupyter-widgets/base",
            "_view_module_version": "1.2.0",
            "_view_name": "StyleView",
            "description_width": ""
          }
        },
        "2aba329b1db24af2b5392397c1b31fa3": {
          "model_module": "@jupyter-widgets/base",
          "model_name": "LayoutModel",
          "model_module_version": "1.2.0",
          "state": {
            "_model_module": "@jupyter-widgets/base",
            "_model_module_version": "1.2.0",
            "_model_name": "LayoutModel",
            "_view_count": null,
            "_view_module": "@jupyter-widgets/base",
            "_view_module_version": "1.2.0",
            "_view_name": "LayoutView",
            "align_content": null,
            "align_items": null,
            "align_self": null,
            "border": null,
            "bottom": null,
            "display": null,
            "flex": null,
            "flex_flow": null,
            "grid_area": null,
            "grid_auto_columns": null,
            "grid_auto_flow": null,
            "grid_auto_rows": null,
            "grid_column": null,
            "grid_gap": null,
            "grid_row": null,
            "grid_template_areas": null,
            "grid_template_columns": null,
            "grid_template_rows": null,
            "height": null,
            "justify_content": null,
            "justify_items": null,
            "left": null,
            "margin": null,
            "max_height": null,
            "max_width": null,
            "min_height": null,
            "min_width": null,
            "object_fit": null,
            "object_position": null,
            "order": null,
            "overflow": null,
            "overflow_x": null,
            "overflow_y": null,
            "padding": null,
            "right": null,
            "top": null,
            "visibility": null,
            "width": null
          }
        },
        "31a03c3653c04afa967092cfc7242502": {
          "model_module": "@jupyter-widgets/controls",
          "model_name": "ProgressStyleModel",
          "model_module_version": "1.5.0",
          "state": {
            "_model_module": "@jupyter-widgets/controls",
            "_model_module_version": "1.5.0",
            "_model_name": "ProgressStyleModel",
            "_view_count": null,
            "_view_module": "@jupyter-widgets/base",
            "_view_module_version": "1.2.0",
            "_view_name": "StyleView",
            "bar_color": null,
            "description_width": ""
          }
        },
        "5ec5949b0c604db09fc8a404020e48f2": {
          "model_module": "@jupyter-widgets/base",
          "model_name": "LayoutModel",
          "model_module_version": "1.2.0",
          "state": {
            "_model_module": "@jupyter-widgets/base",
            "_model_module_version": "1.2.0",
            "_model_name": "LayoutModel",
            "_view_count": null,
            "_view_module": "@jupyter-widgets/base",
            "_view_module_version": "1.2.0",
            "_view_name": "LayoutView",
            "align_content": null,
            "align_items": null,
            "align_self": null,
            "border": null,
            "bottom": null,
            "display": null,
            "flex": null,
            "flex_flow": null,
            "grid_area": null,
            "grid_auto_columns": null,
            "grid_auto_flow": null,
            "grid_auto_rows": null,
            "grid_column": null,
            "grid_gap": null,
            "grid_row": null,
            "grid_template_areas": null,
            "grid_template_columns": null,
            "grid_template_rows": null,
            "height": null,
            "justify_content": null,
            "justify_items": null,
            "left": null,
            "margin": null,
            "max_height": null,
            "max_width": null,
            "min_height": null,
            "min_width": null,
            "object_fit": null,
            "object_position": null,
            "order": null,
            "overflow": null,
            "overflow_x": null,
            "overflow_y": null,
            "padding": null,
            "right": null,
            "top": null,
            "visibility": null,
            "width": null
          }
        },
        "d9e38f20e335490096921b6c599c5595": {
          "model_module": "@jupyter-widgets/controls",
          "model_name": "DescriptionStyleModel",
          "model_module_version": "1.5.0",
          "state": {
            "_model_module": "@jupyter-widgets/controls",
            "_model_module_version": "1.5.0",
            "_model_name": "DescriptionStyleModel",
            "_view_count": null,
            "_view_module": "@jupyter-widgets/base",
            "_view_module_version": "1.2.0",
            "_view_name": "StyleView",
            "description_width": ""
          }
        }
      }
    }
  },
  "nbformat": 4,
  "nbformat_minor": 5
}